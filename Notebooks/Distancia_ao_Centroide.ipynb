{
  "nbformat": 4,
  "nbformat_minor": 5,
  "metadata": {
    "kernelspec": {
      "display_name": "Python 3",
      "language": "python",
      "name": "python3"
    },
    "language_info": {
      "codemirror_mode": {
        "name": "ipython",
        "version": 3
      },
      "file_extension": ".py",
      "mimetype": "text/x-python",
      "name": "python",
      "nbconvert_exporter": "python",
      "pygments_lexer": "ipython3",
      "version": "3.7.4"
    },
    "colab": {
      "name": "Assinatura dos contornos.ipynb",
      "provenance": [],
      "collapsed_sections": []
    }
  },
  "cells": [
    {
      "cell_type": "code",
      "metadata": {
        "colab": {
          "base_uri": "https://localhost:8080/"
        },
        "id": "Ka5S40eS7WCE",
        "outputId": "410724fe-77c5-414c-913a-62cb00b11291"
      },
      "source": [
        "from google.colab import drive\n",
        "drive.mount('/content/drive')"
      ],
      "id": "Ka5S40eS7WCE",
      "execution_count": null,
      "outputs": [
        {
          "output_type": "stream",
          "name": "stdout",
          "text": [
            "Mounted at /content/drive\n"
          ]
        }
      ]
    },
    {
      "cell_type": "markdown",
      "metadata": {
        "id": "LlgPB8vAeq_h"
      },
      "source": [
        "###Importando bibliotecas para buscar arquivos."
      ],
      "id": "LlgPB8vAeq_h"
    },
    {
      "cell_type": "code",
      "metadata": {
        "id": "mRTzhl927SPu"
      },
      "source": [
        "import re\n",
        "import os\n",
        "import shutil"
      ],
      "id": "mRTzhl927SPu",
      "execution_count": null,
      "outputs": []
    },
    {
      "cell_type": "markdown",
      "metadata": {
        "id": "G1JFzbYcgU_Y"
      },
      "source": [
        "###Criando funções para obter os nomes das imagens."
      ],
      "id": "G1JFzbYcgU_Y"
    },
    {
      "cell_type": "code",
      "metadata": {
        "id": "pFD7l2aD7SPy"
      },
      "source": [
        "object_names = [] #Lista para guardar os nomes das imagens.\n",
        "main_folder = r'../content/drive/MyDrive/Exemplos CBIR/ExemploCBIR/kimia99' #Caminho para a pasta das imagens.\n",
        "\n",
        "#Função para percorrer a pasta das imagens e salvar os arquivos .png numa lista contendo seus nomes.\n",
        "def file_loop(root, dirs, files, object_names):\n",
        "    for file in sorted(files):\n",
        "        if not re.search(r'\\.png$', file):\n",
        "            continue\n",
        "        object_names.append(file)\n",
        "\n",
        "#Função auxiliar para caminhar por diretórios\n",
        "def main_loop(object_names):\n",
        "    for root, dirs, files in os.walk(main_folder):\n",
        "        file_loop(root, dirs, files, object_names)"
      ],
      "id": "pFD7l2aD7SPy",
      "execution_count": null,
      "outputs": []
    },
    {
      "cell_type": "markdown",
      "metadata": {
        "id": "LxjHoV-AgpRy"
      },
      "source": [
        "###Povoando a lista dos nomes das imagens."
      ],
      "id": "LxjHoV-AgpRy"
    },
    {
      "cell_type": "code",
      "metadata": {
        "id": "vTzzUBjc7SPz",
        "colab": {
          "base_uri": "https://localhost:8080/"
        },
        "outputId": "ac68867c-c60c-446d-9885-3393a199ec9c"
      },
      "source": [
        "main_loop(object_names)\n",
        "print(object_names)"
      ],
      "id": "vTzzUBjc7SPz",
      "execution_count": null,
      "outputs": [
        {
          "output_type": "stream",
          "name": "stdout",
          "text": [
            "['animal1.png', 'animal10.png', 'animal11.png', 'animal2.png', 'animal3.png', 'animal4.png', 'animal5.png', 'animal6.png', 'animal7.png', 'animal8.png', 'animal9.png', 'bunny04.png', 'bunny1.png', 'bunny10.png', 'bunny2.png', 'bunny3.png', 'bunny4.png', 'bunny5.png', 'bunny6.png', 'bunny7.png', 'bunny8.png', 'bunny9.png', 'dude0.png', 'dude1.png', 'dude10.png', 'dude11.png', 'dude12.png', 'dude2.png', 'dude4.png', 'dude5.png', 'dude6.png', 'dude7.png', 'dude8.png', 'fgen1.png', 'fgen1ap.png', 'fgen1bp.png', 'fgen1ep.png', 'fgen1fp.png', 'fgen2.png', 'fgen2dp.png', 'fgen2fp.png', 'fgen3.png', 'fgen3bp.png', 'fgen5cp.png', 'fish1.png', 'fish14.png', 'fish2.png', 'fish23.png', 'fish28.png', 'fish3.png', 'fish30.png', 'fish4.png', 'fish5.png', 'fish6.png', 'fish7.png', 'hand.png', 'hand2.png', 'hand2occ1.png', 'hand2occ2.png', 'hand2occ3.png', 'hand3.png', 'hand90.png', 'handbent1.png', 'handbent2.png', 'handdeform.png', 'handdeform2.png', 'harrier.png', 'harrier1.png', 'harrier2.png', 'harrier3.png', 'harrier4.png', 'harrier5.png', 'harrier6.png', 'harrier7.png', 'harrierocc1.png', 'harrierocc2.png', 'harrierocc3.png', 'kk0728.png', 'kk0729.png', 'kk0731.png', 'kk0732.png', 'kk0735.png', 'kk0736.png', 'kk0737.png', 'kk0738.png', 'kk0739.png', 'kk0740.png', 'kk0741.png', 'tool04.png', 'tool04bent1.png', 'tool07.png', 'tool08.png', 'tool09.png', 'tool12.png', 'tool17.png', 'tool22.png', 'tool27.png', 'tool38.png', 'tool44.png']\n"
          ]
        }
      ]
    },
    {
      "cell_type": "markdown",
      "metadata": {
        "id": "9zuomSsagxTM"
      },
      "source": [
        "###Importando função para buscar o conteúdo das imagens. "
      ],
      "id": "9zuomSsagxTM"
    },
    {
      "cell_type": "code",
      "metadata": {
        "id": "kWAy3hbJ7SPz"
      },
      "source": [
        "from glob import glob"
      ],
      "id": "kWAy3hbJ7SPz",
      "execution_count": null,
      "outputs": []
    },
    {
      "cell_type": "code",
      "metadata": {
        "id": "MyJtKU8E7SPz",
        "colab": {
          "base_uri": "https://localhost:8080/"
        },
        "outputId": "e0a6637d-882d-46d0-fb5f-f81c9883dbbb"
      },
      "source": [
        "files = sorted(glob(r'../content/drive/MyDrive/Exemplos CBIR/ExemploCBIR/kimia99/*.png')) #Armazena as imagens na lista files.\n",
        "print(files)"
      ],
      "id": "MyJtKU8E7SPz",
      "execution_count": null,
      "outputs": [
        {
          "output_type": "stream",
          "name": "stdout",
          "text": [
            "['../content/drive/MyDrive/Exemplos CBIR/ExemploCBIR/kimia99/animal1.png', '../content/drive/MyDrive/Exemplos CBIR/ExemploCBIR/kimia99/animal10.png', '../content/drive/MyDrive/Exemplos CBIR/ExemploCBIR/kimia99/animal11.png', '../content/drive/MyDrive/Exemplos CBIR/ExemploCBIR/kimia99/animal2.png', '../content/drive/MyDrive/Exemplos CBIR/ExemploCBIR/kimia99/animal3.png', '../content/drive/MyDrive/Exemplos CBIR/ExemploCBIR/kimia99/animal4.png', '../content/drive/MyDrive/Exemplos CBIR/ExemploCBIR/kimia99/animal5.png', '../content/drive/MyDrive/Exemplos CBIR/ExemploCBIR/kimia99/animal6.png', '../content/drive/MyDrive/Exemplos CBIR/ExemploCBIR/kimia99/animal7.png', '../content/drive/MyDrive/Exemplos CBIR/ExemploCBIR/kimia99/animal8.png', '../content/drive/MyDrive/Exemplos CBIR/ExemploCBIR/kimia99/animal9.png', '../content/drive/MyDrive/Exemplos CBIR/ExemploCBIR/kimia99/bunny04.png', '../content/drive/MyDrive/Exemplos CBIR/ExemploCBIR/kimia99/bunny1.png', '../content/drive/MyDrive/Exemplos CBIR/ExemploCBIR/kimia99/bunny10.png', '../content/drive/MyDrive/Exemplos CBIR/ExemploCBIR/kimia99/bunny2.png', '../content/drive/MyDrive/Exemplos CBIR/ExemploCBIR/kimia99/bunny3.png', '../content/drive/MyDrive/Exemplos CBIR/ExemploCBIR/kimia99/bunny4.png', '../content/drive/MyDrive/Exemplos CBIR/ExemploCBIR/kimia99/bunny5.png', '../content/drive/MyDrive/Exemplos CBIR/ExemploCBIR/kimia99/bunny6.png', '../content/drive/MyDrive/Exemplos CBIR/ExemploCBIR/kimia99/bunny7.png', '../content/drive/MyDrive/Exemplos CBIR/ExemploCBIR/kimia99/bunny8.png', '../content/drive/MyDrive/Exemplos CBIR/ExemploCBIR/kimia99/bunny9.png', '../content/drive/MyDrive/Exemplos CBIR/ExemploCBIR/kimia99/dude0.png', '../content/drive/MyDrive/Exemplos CBIR/ExemploCBIR/kimia99/dude1.png', '../content/drive/MyDrive/Exemplos CBIR/ExemploCBIR/kimia99/dude10.png', '../content/drive/MyDrive/Exemplos CBIR/ExemploCBIR/kimia99/dude11.png', '../content/drive/MyDrive/Exemplos CBIR/ExemploCBIR/kimia99/dude12.png', '../content/drive/MyDrive/Exemplos CBIR/ExemploCBIR/kimia99/dude2.png', '../content/drive/MyDrive/Exemplos CBIR/ExemploCBIR/kimia99/dude4.png', '../content/drive/MyDrive/Exemplos CBIR/ExemploCBIR/kimia99/dude5.png', '../content/drive/MyDrive/Exemplos CBIR/ExemploCBIR/kimia99/dude6.png', '../content/drive/MyDrive/Exemplos CBIR/ExemploCBIR/kimia99/dude7.png', '../content/drive/MyDrive/Exemplos CBIR/ExemploCBIR/kimia99/dude8.png', '../content/drive/MyDrive/Exemplos CBIR/ExemploCBIR/kimia99/fgen1.png', '../content/drive/MyDrive/Exemplos CBIR/ExemploCBIR/kimia99/fgen1ap.png', '../content/drive/MyDrive/Exemplos CBIR/ExemploCBIR/kimia99/fgen1bp.png', '../content/drive/MyDrive/Exemplos CBIR/ExemploCBIR/kimia99/fgen1ep.png', '../content/drive/MyDrive/Exemplos CBIR/ExemploCBIR/kimia99/fgen1fp.png', '../content/drive/MyDrive/Exemplos CBIR/ExemploCBIR/kimia99/fgen2.png', '../content/drive/MyDrive/Exemplos CBIR/ExemploCBIR/kimia99/fgen2dp.png', '../content/drive/MyDrive/Exemplos CBIR/ExemploCBIR/kimia99/fgen2fp.png', '../content/drive/MyDrive/Exemplos CBIR/ExemploCBIR/kimia99/fgen3.png', '../content/drive/MyDrive/Exemplos CBIR/ExemploCBIR/kimia99/fgen3bp.png', '../content/drive/MyDrive/Exemplos CBIR/ExemploCBIR/kimia99/fgen5cp.png', '../content/drive/MyDrive/Exemplos CBIR/ExemploCBIR/kimia99/fish1.png', '../content/drive/MyDrive/Exemplos CBIR/ExemploCBIR/kimia99/fish14.png', '../content/drive/MyDrive/Exemplos CBIR/ExemploCBIR/kimia99/fish2.png', '../content/drive/MyDrive/Exemplos CBIR/ExemploCBIR/kimia99/fish23.png', '../content/drive/MyDrive/Exemplos CBIR/ExemploCBIR/kimia99/fish28.png', '../content/drive/MyDrive/Exemplos CBIR/ExemploCBIR/kimia99/fish3.png', '../content/drive/MyDrive/Exemplos CBIR/ExemploCBIR/kimia99/fish30.png', '../content/drive/MyDrive/Exemplos CBIR/ExemploCBIR/kimia99/fish4.png', '../content/drive/MyDrive/Exemplos CBIR/ExemploCBIR/kimia99/fish5.png', '../content/drive/MyDrive/Exemplos CBIR/ExemploCBIR/kimia99/fish6.png', '../content/drive/MyDrive/Exemplos CBIR/ExemploCBIR/kimia99/fish7.png', '../content/drive/MyDrive/Exemplos CBIR/ExemploCBIR/kimia99/hand.png', '../content/drive/MyDrive/Exemplos CBIR/ExemploCBIR/kimia99/hand2.png', '../content/drive/MyDrive/Exemplos CBIR/ExemploCBIR/kimia99/hand2occ1.png', '../content/drive/MyDrive/Exemplos CBIR/ExemploCBIR/kimia99/hand2occ2.png', '../content/drive/MyDrive/Exemplos CBIR/ExemploCBIR/kimia99/hand2occ3.png', '../content/drive/MyDrive/Exemplos CBIR/ExemploCBIR/kimia99/hand3.png', '../content/drive/MyDrive/Exemplos CBIR/ExemploCBIR/kimia99/hand90.png', '../content/drive/MyDrive/Exemplos CBIR/ExemploCBIR/kimia99/handbent1.png', '../content/drive/MyDrive/Exemplos CBIR/ExemploCBIR/kimia99/handbent2.png', '../content/drive/MyDrive/Exemplos CBIR/ExemploCBIR/kimia99/handdeform.png', '../content/drive/MyDrive/Exemplos CBIR/ExemploCBIR/kimia99/handdeform2.png', '../content/drive/MyDrive/Exemplos CBIR/ExemploCBIR/kimia99/harrier.png', '../content/drive/MyDrive/Exemplos CBIR/ExemploCBIR/kimia99/harrier1.png', '../content/drive/MyDrive/Exemplos CBIR/ExemploCBIR/kimia99/harrier2.png', '../content/drive/MyDrive/Exemplos CBIR/ExemploCBIR/kimia99/harrier3.png', '../content/drive/MyDrive/Exemplos CBIR/ExemploCBIR/kimia99/harrier4.png', '../content/drive/MyDrive/Exemplos CBIR/ExemploCBIR/kimia99/harrier5.png', '../content/drive/MyDrive/Exemplos CBIR/ExemploCBIR/kimia99/harrier6.png', '../content/drive/MyDrive/Exemplos CBIR/ExemploCBIR/kimia99/harrier7.png', '../content/drive/MyDrive/Exemplos CBIR/ExemploCBIR/kimia99/harrierocc1.png', '../content/drive/MyDrive/Exemplos CBIR/ExemploCBIR/kimia99/harrierocc2.png', '../content/drive/MyDrive/Exemplos CBIR/ExemploCBIR/kimia99/harrierocc3.png', '../content/drive/MyDrive/Exemplos CBIR/ExemploCBIR/kimia99/kk0728.png', '../content/drive/MyDrive/Exemplos CBIR/ExemploCBIR/kimia99/kk0729.png', '../content/drive/MyDrive/Exemplos CBIR/ExemploCBIR/kimia99/kk0731.png', '../content/drive/MyDrive/Exemplos CBIR/ExemploCBIR/kimia99/kk0732.png', '../content/drive/MyDrive/Exemplos CBIR/ExemploCBIR/kimia99/kk0735.png', '../content/drive/MyDrive/Exemplos CBIR/ExemploCBIR/kimia99/kk0736.png', '../content/drive/MyDrive/Exemplos CBIR/ExemploCBIR/kimia99/kk0737.png', '../content/drive/MyDrive/Exemplos CBIR/ExemploCBIR/kimia99/kk0738.png', '../content/drive/MyDrive/Exemplos CBIR/ExemploCBIR/kimia99/kk0739.png', '../content/drive/MyDrive/Exemplos CBIR/ExemploCBIR/kimia99/kk0740.png', '../content/drive/MyDrive/Exemplos CBIR/ExemploCBIR/kimia99/kk0741.png', '../content/drive/MyDrive/Exemplos CBIR/ExemploCBIR/kimia99/tool04.png', '../content/drive/MyDrive/Exemplos CBIR/ExemploCBIR/kimia99/tool04bent1.png', '../content/drive/MyDrive/Exemplos CBIR/ExemploCBIR/kimia99/tool07.png', '../content/drive/MyDrive/Exemplos CBIR/ExemploCBIR/kimia99/tool08.png', '../content/drive/MyDrive/Exemplos CBIR/ExemploCBIR/kimia99/tool09.png', '../content/drive/MyDrive/Exemplos CBIR/ExemploCBIR/kimia99/tool12.png', '../content/drive/MyDrive/Exemplos CBIR/ExemploCBIR/kimia99/tool17.png', '../content/drive/MyDrive/Exemplos CBIR/ExemploCBIR/kimia99/tool22.png', '../content/drive/MyDrive/Exemplos CBIR/ExemploCBIR/kimia99/tool27.png', '../content/drive/MyDrive/Exemplos CBIR/ExemploCBIR/kimia99/tool38.png', '../content/drive/MyDrive/Exemplos CBIR/ExemploCBIR/kimia99/tool44.png']\n"
          ]
        }
      ]
    },
    {
      "cell_type": "markdown",
      "metadata": {
        "id": "ccV6nwZPjnbS"
      },
      "source": [
        "###Importando bibliotecas e lendo imagens na escala de cinza."
      ],
      "id": "ccV6nwZPjnbS"
    },
    {
      "cell_type": "code",
      "metadata": {
        "id": "BgMUk6Fx7SP1"
      },
      "source": [
        "import matplotlib.pyplot as plt\n",
        "import skimage.io\n",
        "\n",
        "for i in range(0, len(files)):\n",
        "  files[i] = skimage.io.imread(str(files[i]),as_gray=True)"
      ],
      "id": "BgMUk6Fx7SP1",
      "execution_count": null,
      "outputs": []
    },
    {
      "cell_type": "markdown",
      "metadata": {
        "id": "yVBVe4L6j28n"
      },
      "source": [
        "###Importando bibliotecas para pegar contornos das formas e trabalhar com matrizes."
      ],
      "id": "yVBVe4L6j28n"
    },
    {
      "cell_type": "code",
      "metadata": {
        "id": "PWLbVMmg7SP2"
      },
      "source": [
        "from skimage.measure import find_contours\n",
        "import numpy as np\n",
        "\n",
        "contour = [] #Lista para armazenar as coordenadas dos pixels de contorno.\n",
        "cx = [] #Lista com as coordenadas x do centro das formas.\n",
        "cy = [] #Lista com as coordenadas y do centro das formas.\n",
        "\n",
        "#Pegando os contornos de cada forma e os centros das mesmas.\n",
        "for i in range(0, len(files)):\n",
        "    contour.append(find_contours(files[i], level=0))\n",
        "    contour[i] = np.array(contour[i][0])\n",
        "    cx.append(contour[i][:,0].mean()) \n",
        "    cy.append(contour[i][:,1].mean())"
      ],
      "id": "PWLbVMmg7SP2",
      "execution_count": null,
      "outputs": []
    },
    {
      "cell_type": "markdown",
      "metadata": {
        "id": "IoWUOmJ3lQhQ"
      },
      "source": [
        "###Cálculo da distância ao centro de cada pixel de contorno das formas."
      ],
      "id": "IoWUOmJ3lQhQ"
    },
    {
      "cell_type": "code",
      "metadata": {
        "scrolled": true,
        "id": "DHsA5s-n7SP3"
      },
      "source": [
        "center_distance = [] #Lista para armazenar as distâncias.\n",
        "\n",
        "#Para cada forma, usa-se as coordenadas de cada pixel de contorno e do pixel central para \n",
        "#calcular as respectivas distâncias euclidianas.\n",
        "for i in range(0, len(contour)):\n",
        "    center_distance.append((contour[i][:,0] - cx[i])**2 + (contour[i][:,1] - cy[i])**2) \n",
        "    center_distance[i] = center_distance[i]**0.5\n"
      ],
      "id": "DHsA5s-n7SP3",
      "execution_count": null,
      "outputs": []
    },
    {
      "cell_type": "markdown",
      "metadata": {
        "id": "yKZ75qUFvUml"
      },
      "source": [
        "###Criando lista para armazenar as distâncias dos pixels de contorno ao central, dividindo todas as distâncias pela de maior valor."
      ],
      "id": "yKZ75qUFvUml"
    },
    {
      "cell_type": "code",
      "metadata": {
        "id": "iGWqJSEtsq_5"
      },
      "source": [
        "normalized_distance = []\n",
        "\n",
        "#Percorre todos os contornos e divide cada distância pela de maior valor na i-ésima center_distance.\n",
        "for i in range(0, len(center_distance)):\n",
        "    normalized_distance.append(center_distance[i]/max(center_distance[i])) "
      ],
      "id": "iGWqJSEtsq_5",
      "execution_count": null,
      "outputs": []
    },
    {
      "cell_type": "code",
      "metadata": {
        "id": "4ZMtn4c5HQUz"
      },
      "source": [
        "print(normalized_distance[97:])"
      ],
      "id": "4ZMtn4c5HQUz",
      "execution_count": null,
      "outputs": []
    },
    {
      "cell_type": "markdown",
      "metadata": {
        "id": "LEImWaFEwNcN"
      },
      "source": [
        "###Criando lista para guardar os índices da primeira ocorrência do maior valor das distâncias dos pixels de contorno ao central. "
      ],
      "id": "LEImWaFEwNcN"
    },
    {
      "cell_type": "code",
      "metadata": {
        "id": "jWWGLCkksyV2",
        "colab": {
          "base_uri": "https://localhost:8080/"
        },
        "outputId": "68214b46-5751-496e-d0e3-631332a0a83c"
      },
      "source": [
        "maximum_index_distance = []\n",
        "\n",
        "for i in range (0, len(normalized_distance)):\n",
        "    maximum_index_distance.append(center_distance[i].tolist().index(max(center_distance[i])))\n",
        "    \n",
        "print(maximum_index_distance)"
      ],
      "id": "jWWGLCkksyV2",
      "execution_count": null,
      "outputs": [
        {
          "output_type": "stream",
          "name": "stdout",
          "text": [
            "[297, 302, 213, 301, 1, 259, 278, 247, 256, 571, 541, 34, 27, 21, 30, 25, 25, 25, 78, 0, 21, 21, 366, 314, 333, 81, 81, 179, 318, 73, 80, 0, 0, 297, 0, 0, 0, 244, 0, 323, 0, 290, 0, 325, 169, 152, 140, 134, 131, 148, 146, 161, 165, 171, 171, 489, 0, 120, 0, 0, 101, 428, 566, 506, 412, 112, 206, 413, 124, 124, 119, 119, 306, 356, 207, 206, 206, 94, 95, 90, 96, 93, 91, 94, 95, 87, 94, 94, 18, 16, 167, 114, 20, 50, 0, 82, 18, 50, 2]\n"
          ]
        }
      ]
    },
    {
      "cell_type": "markdown",
      "metadata": {
        "id": "NZFiF7_mRkuN"
      },
      "source": [
        "###Função para colocar a maior distância no primeiro índice de cada vetor de distâncias."
      ],
      "id": "NZFiF7_mRkuN"
    },
    {
      "cell_type": "code",
      "metadata": {
        "id": "BiD4-lr4qj_O"
      },
      "source": [
        "def vector_reorganize(vector, index):\n",
        "  aux_vector = []\n",
        "  for i in range(index, len(vector)):\n",
        "    aux_vector.append(vector[i])\n",
        "  for i in range(0, index):\n",
        "    aux_vector.append(vector[i])\n",
        "  return aux_vector"
      ],
      "id": "BiD4-lr4qj_O",
      "execution_count": null,
      "outputs": []
    },
    {
      "cell_type": "markdown",
      "metadata": {
        "id": "PTiD4uh9R0DY"
      },
      "source": [
        "###Usando a função criada acima para reorganizar o vetor de distâncias normalizadas."
      ],
      "id": "PTiD4uh9R0DY"
    },
    {
      "cell_type": "code",
      "metadata": {
        "id": "ZzYeKcfwO95J"
      },
      "source": [
        "for i in range(0, len(normalized_distance)):\n",
        "  normalized_distance[i] = vector_reorganize(normalized_distance[i], maximum_index_distance[i])"
      ],
      "id": "ZzYeKcfwO95J",
      "execution_count": null,
      "outputs": []
    },
    {
      "cell_type": "code",
      "metadata": {
        "colab": {
          "base_uri": "https://localhost:8080/"
        },
        "id": "kOpHwmjVFj4d",
        "outputId": "3ddf03d3-6a97-413f-f805-fec75d2d5356"
      },
      "source": [
        "type(normalized_distance)"
      ],
      "id": "kOpHwmjVFj4d",
      "execution_count": null,
      "outputs": [
        {
          "output_type": "execute_result",
          "data": {
            "text/plain": [
              "list"
            ]
          },
          "metadata": {},
          "execution_count": 14
        }
      ]
    },
    {
      "cell_type": "code",
      "metadata": {
        "id": "PPYV2l-IGPO3",
        "colab": {
          "base_uri": "https://localhost:8080/"
        },
        "outputId": "72f0ee86-ccd6-4f39-c8b0-7b537b66f97e"
      },
      "source": [
        "normalized_distance = np.asarray(normalized_distance)"
      ],
      "id": "PPYV2l-IGPO3",
      "execution_count": null,
      "outputs": [
        {
          "output_type": "stream",
          "name": "stderr",
          "text": [
            "/usr/local/lib/python3.7/dist-packages/ipykernel_launcher.py:1: VisibleDeprecationWarning: Creating an ndarray from ragged nested sequences (which is a list-or-tuple of lists-or-tuples-or ndarrays with different lengths or shapes) is deprecated. If you meant to do this, you must specify 'dtype=object' when creating the ndarray.\n",
            "  \"\"\"Entry point for launching an IPython kernel.\n"
          ]
        }
      ]
    },
    {
      "cell_type": "code",
      "metadata": {
        "colab": {
          "base_uri": "https://localhost:8080/"
        },
        "id": "U-WJzpyWGdhg",
        "outputId": "a88597c7-d34d-4093-a41f-da5ba5c93902"
      },
      "source": [
        "normalized_distance.shape"
      ],
      "id": "U-WJzpyWGdhg",
      "execution_count": null,
      "outputs": [
        {
          "output_type": "execute_result",
          "data": {
            "text/plain": [
              "(99,)"
            ]
          },
          "metadata": {},
          "execution_count": 16
        }
      ]
    },
    {
      "cell_type": "code",
      "source": [
        "print(normalized_distance[1])"
      ],
      "metadata": {
        "colab": {
          "base_uri": "https://localhost:8080/"
        },
        "id": "bobDdTVX4qjx",
        "outputId": "af77ae72-31b6-4289-e6b0-94f3d7df642d"
      },
      "id": "bobDdTVX4qjx",
      "execution_count": null,
      "outputs": [
        {
          "output_type": "stream",
          "name": "stdout",
          "text": [
            "[1.0, 0.9897846201194742, 0.9912335374286408, 0.9814002393612561, 0.9717064314124694, 0.96215632971642, 0.9527542556784407, 0.9435046346194479, 0.9344119938861911, 0.925480960378628, 0.9167162574446462, 0.9208059391160953, 0.9125054388996416, 0.9173736543385992, 0.9095525988388419, 0.9151980881276974, 0.907870012040551, 0.900740157840994, 0.907464744298909, 0.914647802278851, 0.9083385052960234, 0.9162753653113428, 0.9104876127308369, 0.919164165214404, 0.9139030694467211, 0.9088670601407971, 0.9040598987947664, 0.899485254544855, 0.8951466922317441, 0.8910476603516974, 0.8871914789705918, 0.8835813276845599, 0.8653347288532023, 0.8504617457659677, 0.8323261236696261, 0.814356974025824, 0.7994070515083802, 0.7844682541652902, 0.7695412299025607, 0.7546266773589072, 0.7397253509097371, 0.7282785286073988, 0.7320201247819574, 0.721417249823422, 0.7113094568960607, 0.7017181403289574, 0.6873592915924502, 0.6784566054954507, 0.6701289765502804, 0.656140729789764, 0.6486011885326252, 0.6416971685404305, 0.6281850308583424, 0.6221748565687476, 0.6089923143176887, 0.5881553308859112, 0.5673717101433583, 0.5541426793052897, 0.5333398898020862, 0.512598943571424, 0.4919276630938338, 0.47855417354106394, 0.45786745962665265, 0.4372642610897215, 0.4238097098084512, 0.40319407036100174, 0.3826815340339841, 0.3622896140892206, 0.3420398841264151, 0.3282197329682512, 0.3079920060180432, 0.2879563652747906, 0.2681558701641659, 0.2539730324660551, 0.23427413093683513, 0.2149310249880109, 0.21082489683880004, 0.20775799307553833, 0.19061002204219799, 0.1896769277814095, 0.17475553940782226, 0.17639037630598742, 0.17931002785122704, 0.1690327407607676, 0.17475553940782226, 0.18158024284963387, 0.18938776509567914, 0.19806191324313546, 0.20749402960595645, 0.21758556501223786, 0.2282490718847792, 0.2394081336668043, 0.24162116044920795, 0.2540242324983255, 0.26672137362966586, 0.2796725344763395, 0.29284401456224757, 0.30620738417686705, 0.31973858434498653, 0.3334171822933301, 0.3472257587116809, 0.3611494046961343, 0.3751753089514728, 0.3892924187757641, 0.4034911611432495, 0.417763212669763, 0.4321013093414398, 0.44649908862617244, 0.46095095800790964, 0.47545198513394366, 0.489997805691206, 0.5045845458707362, 0.5236375398016258, 0.5381755264863514, 0.5527512790244947, 0.5673618867641349, 0.5863552629468217, 0.6009217406158334, 0.6200107152159657, 0.6345365559303277, 0.6490951005640248, 0.6594916705554202, 0.6556266229519947, 0.6520948771842071, 0.6339726967401953, 0.6310560594816176, 0.6134482589229424, 0.5960995658551465, 0.5810127309434594, 0.5659340505386209, 0.5508641942754267, 0.5358039067096941, 0.5207540180267621, 0.5057154566271976, 0.48834382210558186, 0.47325677410820854, 0.45817978439136614, 0.44311387965795057, 0.42806023034277974, 0.41302017649468126, 0.39799525941557734, 0.382987260594708, 0.3679982499596919, 0.353030646125721, 0.33808729223306105, 0.3231715522288642, 0.30828743423230015, 0.2934397501635508, 0.2786343244856069, 0.2638782702725726, 0.24918035877157402, 0.23061354154602923, 0.21580228240190066, 0.2010549665398203, 0.18638677256119296, 0.1677917101873776, 0.18019371038840856, 0.19532752967283454, 0.21047652925595642, 0.225637651605768, 0.24080860701330725, 0.25598764723361944, 0.27117341461822836, 0.2863648389558435, 0.3008332273221533, 0.3160685696578213, 0.33130424948227094, 0.3465402222823083, 0.3617764510425236, 0.37701290473054944, 0.39224955713525067, 0.40748638596550096, 0.42272337214381844, 0.43796049924741876, 0.45319775306200094, 0.4684351212226038, 0.48367259292233594, 0.4993493685659554, 0.5145740142162065, 0.5297994859009718, 0.5450257143936222, 0.5602526379898748, 0.5754802015134318, 0.5907083554752358, 0.6066816425862815, 0.6218926146976569, 0.6381771252899875, 0.6533657183214269, 0.6699251791883564, 0.6685566060154867, 0.6675332052552392, 0.6668565660805257, 0.6665277445583785, 0.6665472554458826, 0.6669150681711946, 0.6676306070726017, 0.6686927558912713, 0.6700998664361805, 0.6700998664361805, 0.6549447743348399, 0.6397936689232182, 0.6246468402985338, 0.6095046073087901, 0.5943673211923195, 0.5792353697824542, 0.5641091823820013, 0.5489892354348622, 0.5338760591504459, 0.5187702452720829, 0.5036724562255661, 0.48858343594101056, 0.47350402271421455, 0.45843516456763467, 0.4433779376928403, 0.4283335687152586, 0.4133034617311269, 0.3982892313438918, 0.3832927432982188, 0.3683161648103859, 0.35336202737586214, 0.33843330577341046, 0.3235335182902213, 0.30866685502782815, 0.29383834375942597, 0.2790540665691614, 0.26432144598817625, 0.2496496274476808, 0.23504999701178958, 0.22053689179071564, 0.20612858880118595, 0.19184870220206865, 0.1777281882174538, 0.16380826649620092, 0.15777112075480682, 0.1451429491902435, 0.13306269120247957, 0.13274817475863104, 0.12324849638894164, 0.11499026375094938, 0.12246215174158376, 0.13688910681813404, 0.15147518429348547, 0.1630238296948496, 0.17807802449947685, 0.1931612060065071, 0.20688428852255164, 0.22210242547913894, 0.2373232413922867, 0.25254625188499186, 0.26756633074381214, 0.28299743995054655, 0.29918601330844563, 0.31601566412160914, 0.33338932084130124, 0.3512262638269077, 0.3694593988824416, 0.3880328804538653, 0.39233953691021106, 0.41157374298980814, 0.43102724912045237, 0.43650733120866686, 0.4564247567448437, 0.4626085052764812, 0.4692058766401819, 0.4761996798909193, 0.48357271481933045, 0.4913079083856193, 0.49938843208644484, 0.5077978006020253, 0.5165199525920968, 0.5255393148854048, 0.5348408515527684, 0.5444100994876484, 0.5427781670005579, 0.5530503307809592, 0.5527059031078243, 0.5636215529986949, 0.5747339816072099, 0.5760174618076679, 0.5876860733306059, 0.5901230823184185, 0.5995149541096831, 0.609143302558824, 0.6189970927543985, 0.6290657307146171, 0.6393390659232578, 0.6389103101315038, 0.6281939031166541, 0.6176675727027681, 0.6187269133351191, 0.6088000933071372, 0.5990964604062897, 0.6017342864819853, 0.592698976427775, 0.5839216186476326, 0.5754140176643262, 0.5671883123444302, 0.5592569414237387, 0.5516326008641427, 0.5443281924323166, 0.5373567630095655, 0.5445772881406897, 0.558495698362782, 0.5724813729334663, 0.5925312565142501, 0.5988607352889908, 0.6055076593490591, 0.612461693271402, 0.6197124985461891, 0.627249783514382, 0.6350633479569648, 0.6431431223707283, 0.6514792020642114, 0.6476108000378148, 0.6565978472893834, 0.6538261966864148, 0.6634294160518046, 0.6732406253541489, 0.6719216634218454, 0.6822917126786525, 0.6820125571741888, 0.6929020835786593, 0.7035636892447764, 0.7143912703517478, 0.7253773944787906, 0.7365149670046665, 0.7477972210151105, 0.7492925707256004, 0.7609958301795074, 0.7514033132753791, 0.7419997842228989, 0.7327925185940632, 0.7237890063844734, 0.7149969448561353, 0.7064242291139103, 0.710952852642676, 0.7029917701341287, 0.6952735821292679, 0.6878064655645534, 0.6805986843015004, 0.6736585626327737, 0.6807979221141676, 0.6745487458742115, 0.6685885620476661, 0.6629251654421119, 0.6575662244876388, 0.6525192404308056, 0.6477915047396454, 0.643390055120767, 0.6393216306201006, 0.6355926263450323, 0.6322090484045595, 0.6291764697126017, 0.6114720167386372, 0.6090990775561985, 0.6070994978092132, 0.5903072227192945, 0.5890328013149486, 0.5881505927824061, 0.5876623635138181, 0.5875690956185399, 0.6031020126291508, 0.6037808676520452, 0.6048430288785444, 0.6214398642139712, 0.6232175929357069, 0.6404263800007437, 0.6428744211594799, 0.6456729431348404, 0.6636995926566864, 0.6671072532043885, 0.6708438567939247, 0.6749039398709881, 0.6792817021263033, 0.6839710436625402, 0.6889656023554677, 0.6942587909592728, 0.6998438335474715, 0.7057138009275445, 0.6980070805327052, 0.7045518943335214, 0.7113629974064629, 0.7050369135536523, 0.7124955449779292, 0.7071654698954992, 0.7024564127984243, 0.6983809360375758, 0.6949501864376991, 0.6827952654300963, 0.6803106416246926, 0.6685843939561751, 0.6570023360009326, 0.645572228425766, 0.6447472151189254, 0.6338290888540217, 0.6230923778112034, 0.6125466215973367, 0.6022018522963817, 0.5920686050814269, 0.5821579255424864, 0.5724813729334663, 0.5510597677426204, 0.541685194165752, 0.5325817181120819, 0.5237634755221452, 0.5152451116214957, 0.5070417406325135, 0.49916889263298647, 0.49164244623122794, 0.48447854589754613, 0.477693503063174, 0.47130368048374455, 0.46532535987335955, 0.45977459344771393, 0.4546670407603136, 0.45001779305096573, 0.44584118821187213, 0.45700848223524204, 0.4539207130641361, 0.4513266329359914, 0.4492347942680035, 0.4628353517016134, 0.46180260224300884, 0.46127126403783714, 0.4612430699216028, 0.4769403596147012, 0.47788597701023106, 0.4793144712520547, 0.4963135291026196, 0.4986214840627031, 0.5013821940421093, 0.504588227737288, 0.5082311576188792, 0.5123016635861978, 0.516789642298234, 0.536070826183747, 0.5412202697875036, 0.5467460883329502, 0.5666475987295233, 0.5727393086688227, 0.5929434176529551, 0.5995428433035082, 0.6064534609596471, 0.6270527895587612, 0.6343960041778994, 0.6551801702626144, 0.6629125542624698, 0.6709020111962896, 0.691932145340606, 0.7129934002177458, 0.7340830972188735, 0.7551988535219234, 0.7763385427564337, 0.7975002617225406, 0.8186823021147094, 0.8228754060806579, 0.8276086429822715, 0.8197300392419247, 0.8120609973808425, 0.817993285555378, 0.8108807873635098, 0.8039942427355062, 0.8111316254704397, 0.8187742028146573, 0.8128121868158259, 0.8212878284729159, 0.8302365043944845, 0.8396430903250321, 0.8349435877423587, 0.8541118306875496, 0.8589768324430622, 0.8640832326589765, 0.8694267779323617, 0.8750031236197392, 0.8808078481926374, 0.8868364671494844, 0.8930844464156813, 0.8995472151744012, 0.9062201780811482, 0.9130987268252139, 0.9201782510107573, 0.9274541483392034, 0.9349218340829187, 0.9425767498476352, 0.9374331856760876, 0.9455590838150533, 0.9411723508707758, 0.9497553933997688, 0.9461247725090927, 0.9551496784659939, 0.9643309526956974, 0.9617217809379116, 0.9713191915398719, 0.9810594348519072, 0.990938299040464, 0.989573435770969, 0.9998327822425139, 0.9991775765749208, 0.9989869751320279, 0.9992612437729826]\n"
          ]
        }
      ]
    },
    {
      "cell_type": "markdown",
      "metadata": {
        "id": "rZsGIEyyD3vd"
      },
      "source": [
        "###Matriz de distâncias usando a DTW:"
      ],
      "id": "rZsGIEyyD3vd"
    },
    {
      "cell_type": "code",
      "metadata": {
        "id": "5OFK6ZyCAO0c"
      },
      "source": [
        "from fastdtw import fastdtw "
      ],
      "id": "5OFK6ZyCAO0c",
      "execution_count": null,
      "outputs": []
    },
    {
      "cell_type": "code",
      "metadata": {
        "id": "9WSotd_vDpZa"
      },
      "source": [
        "N = normalized_distance.shape[0]\n",
        "distance_matrix = np.zeros((N,N)) #Matriz de distâncias.\n",
        "for i,a in zip(np.arange(N),normalized_distance):\n",
        "  for j,b in zip(np.arange(i,N),normalized_distance[i:]):\n",
        "    distance_matrix[i,j] = fastdtw(a,b)[0]\n",
        "distance_matrix = distance_matrix + distance_matrix.transpose()"
      ],
      "id": "9WSotd_vDpZa",
      "execution_count": null,
      "outputs": []
    },
    {
      "cell_type": "code",
      "metadata": {
        "colab": {
          "base_uri": "https://localhost:8080/"
        },
        "id": "nXUao8QVTgBr",
        "outputId": "0626de0b-bec7-40e8-d77b-ea65976328f0"
      },
      "source": [
        "distance_matrix.shape"
      ],
      "id": "nXUao8QVTgBr",
      "execution_count": null,
      "outputs": [
        {
          "output_type": "execute_result",
          "data": {
            "text/plain": [
              "(99, 99)"
            ]
          },
          "metadata": {},
          "execution_count": 21
        }
      ]
    },
    {
      "cell_type": "code",
      "source": [
        "print(len(normalized_distance))"
      ],
      "metadata": {
        "colab": {
          "base_uri": "https://localhost:8080/"
        },
        "id": "dOUtOzCiP_kQ",
        "outputId": "a42a95b1-3ed1-487b-9172-b66f5dbbfec7"
      },
      "id": "dOUtOzCiP_kQ",
      "execution_count": null,
      "outputs": [
        {
          "output_type": "stream",
          "name": "stdout",
          "text": [
            "99\n"
          ]
        }
      ]
    },
    {
      "cell_type": "code",
      "metadata": {
        "id": "QaxClPhWj3vA"
      },
      "source": [
        "import seaborn as sn\n",
        "import pandas as pd\n",
        "\n",
        "df_cm = pd.DataFrame(distance_matrix)\n",
        "plt.figure(figsize = (30,30))\n",
        "sn.heatmap(df_cm, annot=False,cmap=\"gray\")"
      ],
      "id": "QaxClPhWj3vA",
      "execution_count": null,
      "outputs": []
    },
    {
      "cell_type": "code",
      "metadata": {
        "id": "M4STjDvvqEM7"
      },
      "source": [
        "plt.figure(figsize=(30,30))\n",
        "plt.imshow(distance_matrix,cmap=\"gray\")\n",
        "plt.show()"
      ],
      "id": "M4STjDvvqEM7",
      "execution_count": null,
      "outputs": []
    },
    {
      "cell_type": "markdown",
      "metadata": {
        "id": "3_e4TFH-l3Q3"
      },
      "source": [
        "###Criando dicionário para guardar coordenadas dos contornos, coordenadas dos centros e formas das imagens."
      ],
      "id": "3_e4TFH-l3Q3"
    },
    {
      "cell_type": "code",
      "metadata": {
        "id": "-aqZH2Mj7SP4"
      },
      "source": [
        "keys = [] #Lista a ser povoada com dicionário.\n",
        "\n",
        "for i in range(0, len(contour)):\n",
        "    keys.append({})\n",
        "    keys[i][\"contour\"] = contour[i] #Contornos\n",
        "    keys[i][\"distance\"] = center_distance[i] #Distância dos pixels de contorno ao do centro.\n",
        "    keys[i][\"normalized_distance\"] = normalized_distance[i] #Distância normalizada.\n",
        "    keys[i][\"max_index\"] = maximum_index_distance[i] #Primeiro índice do maior valor da distância normalizada.\n",
        "    keys[i][\"shape\"] = contour[i].shape[0] #Proporção da forma.\n",
        "    keys[i][\"form\"] = files[i] #Forma pura da imagem."
      ],
      "id": "-aqZH2Mj7SP4",
      "execution_count": null,
      "outputs": []
    },
    {
      "cell_type": "markdown",
      "metadata": {
        "id": "IkcM_tG3nBWS"
      },
      "source": [
        "###Criando dicionário para associar os nomes das imagens a todas as suas características."
      ],
      "id": "IkcM_tG3nBWS"
    },
    {
      "cell_type": "code",
      "metadata": {
        "id": "QHkKFPq47SP5"
      },
      "source": [
        "dictionary = {}\n",
        "for i in range(0, len(contour)):\n",
        "    dictionary[object_names[i]] = keys[i]"
      ],
      "id": "QHkKFPq47SP5",
      "execution_count": null,
      "outputs": []
    },
    {
      "cell_type": "code",
      "metadata": {
        "colab": {
          "base_uri": "https://localhost:8080/"
        },
        "id": "nXW-UvVD7SP5",
        "outputId": "2a1e8d32-0b95-46db-842e-39fdeb0b9970"
      },
      "source": [
        "print(dictionary.keys()) #Nomes das imagens"
      ],
      "id": "nXW-UvVD7SP5",
      "execution_count": null,
      "outputs": [
        {
          "output_type": "stream",
          "name": "stdout",
          "text": [
            "dict_keys(['animal1.png', 'animal10.png', 'animal11.png', 'animal2.png', 'animal3.png', 'animal4.png', 'animal5.png', 'animal6.png', 'animal7.png', 'animal8.png', 'animal9.png', 'bunny04.png', 'bunny1.png', 'bunny10.png', 'bunny2.png', 'bunny3.png', 'bunny4.png', 'bunny5.png', 'bunny6.png', 'bunny7.png', 'bunny8.png', 'bunny9.png', 'dude0.png', 'dude1.png', 'dude10.png', 'dude11.png', 'dude12.png', 'dude2.png', 'dude4.png', 'dude5.png', 'dude6.png', 'dude7.png', 'dude8.png', 'fgen1.png', 'fgen1ap.png', 'fgen1bp.png', 'fgen1ep.png', 'fgen1fp.png', 'fgen2.png', 'fgen2dp.png', 'fgen2fp.png', 'fgen3.png', 'fgen3bp.png', 'fgen5cp.png', 'fish1.png', 'fish14.png', 'fish2.png', 'fish23.png', 'fish28.png', 'fish3.png', 'fish30.png', 'fish4.png', 'fish5.png', 'fish6.png', 'fish7.png', 'hand.png', 'hand2.png', 'hand2occ1.png', 'hand2occ2.png', 'hand2occ3.png', 'hand3.png', 'hand90.png', 'handbent1.png', 'handbent2.png', 'handdeform.png', 'handdeform2.png', 'harrier.png', 'harrier1.png', 'harrier2.png', 'harrier3.png', 'harrier4.png', 'harrier5.png', 'harrier6.png', 'harrier7.png', 'harrierocc1.png', 'harrierocc2.png', 'harrierocc3.png', 'kk0728.png', 'kk0729.png', 'kk0731.png', 'kk0732.png', 'kk0735.png', 'kk0736.png', 'kk0737.png', 'kk0738.png', 'kk0739.png', 'kk0740.png', 'kk0741.png', 'tool04.png', 'tool04bent1.png', 'tool07.png', 'tool08.png', 'tool09.png', 'tool12.png', 'tool17.png', 'tool22.png', 'tool27.png', 'tool38.png', 'tool44.png'])\n"
          ]
        }
      ]
    },
    {
      "cell_type": "markdown",
      "metadata": {
        "id": "bqoEp1JX1Pqs"
      },
      "source": [
        "###Classificando as imagens:"
      ],
      "id": "bqoEp1JX1Pqs"
    },
    {
      "cell_type": "code",
      "metadata": {
        "id": "glD2zsEEoIOQ"
      },
      "source": [
        "for i in dictionary.keys():\n",
        "  if 'animal' in i:\n",
        "    dictionary[i]['class'] = 0\n",
        "  elif 'bunny' in i:\n",
        "    dictionary[i]['class'] = 1\n",
        "  elif 'dude' in i:\n",
        "    dictionary[i]['class'] = 2\n",
        "  elif 'fgen' in i:\n",
        "    dictionary[i]['class'] = 3\n",
        "  elif 'fish' in i:\n",
        "    dictionary[i]['class'] = 4\n",
        "  elif 'hand' in i:\n",
        "    dictionary[i]['class'] = 5\n",
        "  elif 'harrier' in i:\n",
        "    dictionary[i]['class'] = 6\n",
        "  elif 'kk0' in i:\n",
        "    dictionary[i]['class'] = 7\n",
        "  elif 'tool' in i:\n",
        "    dictionary[i]['class'] = 8"
      ],
      "id": "glD2zsEEoIOQ",
      "execution_count": null,
      "outputs": []
    },
    {
      "cell_type": "code",
      "source": [
        "classes = []\n",
        "for i in dictionary.keys():\n",
        "  classes.append(dictionary[i]['class'])"
      ],
      "metadata": {
        "id": "tS1tmHT6Es2e"
      },
      "execution_count": null,
      "outputs": [],
      "id": "tS1tmHT6Es2e"
    },
    {
      "cell_type": "code",
      "source": [
        "classes"
      ],
      "metadata": {
        "id": "5JZQJDwHFlsr"
      },
      "execution_count": null,
      "outputs": [],
      "id": "5JZQJDwHFlsr"
    },
    {
      "cell_type": "code",
      "metadata": {
        "colab": {
          "base_uri": "https://localhost:8080/"
        },
        "id": "cwsd-aaJ0zlX",
        "outputId": "e7a6ac82-6784-4b19-f1b1-12b9914d8518"
      },
      "source": [
        "#Exemplo:\n",
        "print(dictionary['kk0735.png']['class'])"
      ],
      "id": "cwsd-aaJ0zlX",
      "execution_count": null,
      "outputs": [
        {
          "output_type": "stream",
          "name": "stdout",
          "text": [
            "7\n"
          ]
        }
      ]
    },
    {
      "cell_type": "markdown",
      "metadata": {
        "id": "KDk1JSafnfyT"
      },
      "source": [
        "###Criando função para plotar gráficos da forma e do contorno das imagens."
      ],
      "id": "KDk1JSafnfyT"
    },
    {
      "cell_type": "code",
      "metadata": {
        "id": "sbCVSnNm-3Jm",
        "colab": {
          "base_uri": "https://localhost:8080/",
          "height": 470
        },
        "outputId": "39e85ed9-0d5a-44f9-9676-c0dae160dc7e"
      },
      "source": [
        "plt.figure(figsize=(8, 8))\n",
        "ax2 = plt.axes([0.133, 0.123, 0.75, 0.75])\n",
        "#ax2 = plt.axes([0.135, 0.12, 0.75, 0.75])\n",
        "#plt.axes(ax1)\n",
        "#plt.tight_layout()\n",
        "#for i, j in zip(range(101,10101,100),range(0,99)):#9901\n",
        "for i, j in zip(range(2,101),range(0,98)):\n",
        "  a = 100*(i-1)+1\n",
        "  plt.subplot(100, 100, a)\n",
        "  plt.axis('off')\n",
        "  plt.xticks(())\n",
        "  plt.yticks(())\n",
        "  plt.imshow(files[j], 'gray')\n",
        "  plt.subplot(100, 100, i)\n",
        "  plt.axis('off')\n",
        "  plt.xticks(())\n",
        "  plt.yticks(())\n",
        "  plt.imshow(files[j], 'gray')\n",
        "plt.subplot(100,100,102)\n",
        "plt.axes(ax2)\n",
        "plt.xticks(())\n",
        "plt.yticks(())\n",
        "plt.imshow(distance_matrix,cmap=\"gray\")\n",
        "\n",
        "plt.show()"
      ],
      "id": "sbCVSnNm-3Jm",
      "execution_count": null,
      "outputs": [
        {
          "output_type": "display_data",
          "data": {
            "text/plain": [
              "<Figure size 576x576 with 198 Axes>"
            ],
            "image/png": "[encoded data removed]"
          },
          "metadata": {
            "needs_background": "light"
          }
        }
      ]
    },
    {
      "cell_type": "code",
      "metadata": {
        "id": "aif8V63A7SP5",
        "colab": {
          "base_uri": "https://localhost:8080/",
          "height": 265
        },
        "outputId": "fd6b6cef-10ab-4eae-9418-89511ea09a56"
      },
      "source": [
        "def graphic_form_contour(name): #O parâmetro a ser passado é o nome de uma das imagens.\n",
        "    plt.subplot(121)\n",
        "    plt.imshow(dictionary[name]['form'],'gray') #Usando os dados do dicionário (forma)\n",
        "    plt.subplot(122)\n",
        "    plt.scatter(dictionary[name]['contour'][:,0],dictionary[name]['contour'][:,1]) #Usando os dados do dicionário (contorno)\n",
        "    plt.show()\n",
        "\n",
        "#Exemplo:\n",
        "graphic_form_contour('animal11.png')"
      ],
      "id": "aif8V63A7SP5",
      "execution_count": null,
      "outputs": [
        {
          "output_type": "display_data",
          "data": {
            "text/plain": [
              "<Figure size 432x288 with 2 Axes>"
            ],
            "image/png": "[encoded data removed]"
          },
          "metadata": {
            "needs_background": "light"
          }
        }
      ]
    },
    {
      "cell_type": "markdown",
      "metadata": {
        "id": "zeMi7J8zoCtt"
      },
      "source": [
        "###Criando funções para plotar gráficos das assinaturas das imagens (forma pura e normalizada)."
      ],
      "id": "zeMi7J8zoCtt"
    },
    {
      "cell_type": "code",
      "metadata": {
        "id": "C43wQzW67SP6"
      },
      "source": [
        "#Função que mostra a forma pura das assinaturas.\n",
        "def signature_Image_Contour(name):\n",
        "    plt.plot(np.arange(dictionary[name]['shape']), dictionary[name]['distance'])\n",
        "\n",
        "#Função que mostra a forma normalizada das assinaturas.\n",
        "def signature_Image_Contour_Normalized(name):\n",
        "    plt.plot(np.arange(dictionary[name]['shape']), dictionary[name]['normalized_distance'])"
      ],
      "id": "C43wQzW67SP6",
      "execution_count": null,
      "outputs": []
    },
    {
      "cell_type": "code",
      "metadata": {
        "id": "FLaiq-sutK7S"
      },
      "source": [
        "#Exemplo da função que plota a assinatura:\n",
        "signature_Image_Contour('animal11.png')"
      ],
      "id": "FLaiq-sutK7S",
      "execution_count": null,
      "outputs": []
    },
    {
      "cell_type": "code",
      "metadata": {
        "id": "EN4SqoiatLP_"
      },
      "source": [
        "#Exemplo da função que plota a assinatura normalizada:\n",
        "signature_Image_Contour_Normalized('animal11.png')"
      ],
      "id": "EN4SqoiatLP_",
      "execution_count": null,
      "outputs": []
    },
    {
      "cell_type": "markdown",
      "metadata": {
        "id": "Q5udS0j9ofVK"
      },
      "source": [
        "###Salvando os dados do dicionário em um arquivo .pkl."
      ],
      "id": "Q5udS0j9ofVK"
    },
    {
      "cell_type": "code",
      "metadata": {
        "id": "9qCvjHLl7SP6"
      },
      "source": [
        "import pickle\n",
        "\n",
        "pickle_file = open(\"banco de dados.pkl\",\"wb\")\n",
        "pickle.dump(dictionary, pickle_file)"
      ],
      "id": "9qCvjHLl7SP6",
      "execution_count": null,
      "outputs": []
    },
    {
      "cell_type": "code",
      "metadata": {
        "id": "KT13XFda7SP6"
      },
      "source": [
        "pickle_file.close()"
      ],
      "id": "KT13XFda7SP6",
      "execution_count": null,
      "outputs": []
    },
    {
      "cell_type": "markdown",
      "metadata": {
        "id": "afoFF1FNumKH"
      },
      "source": [
        "###Para testar se o salvamento funcionou."
      ],
      "id": "afoFF1FNumKH"
    },
    {
      "cell_type": "code",
      "metadata": {
        "id": "rZ6KcYYzrgbZ"
      },
      "source": [
        "with open(\"banco de dados.pkl\",\"rb\") as data_base:\n",
        "  new_dictionary = pickle.load(data_base)\n",
        "\n",
        "#print(new_dictionary)"
      ],
      "id": "rZ6KcYYzrgbZ",
      "execution_count": null,
      "outputs": []
    },
    {
      "cell_type": "markdown",
      "source": [
        "#Avaliando o descritor usando KNN"
      ],
      "metadata": {
        "id": "5bbGTMwTGrr7"
      },
      "id": "5bbGTMwTGrr7"
    },
    {
      "cell_type": "code",
      "source": [
        "from sklearn.neighbors import KNeighborsClassifier"
      ],
      "metadata": {
        "id": "PdTDP0NXG7iH"
      },
      "execution_count": null,
      "outputs": [],
      "id": "PdTDP0NXG7iH"
    },
    {
      "cell_type": "code",
      "source": [
        "from sklearn.metrics import accuracy_score, classification_report"
      ],
      "metadata": {
        "id": "MPR51TfsLBdW"
      },
      "id": "MPR51TfsLBdW",
      "execution_count": null,
      "outputs": []
    },
    {
      "cell_type": "code",
      "source": [
        "k_neighbors = []\n",
        "for i in range(1, 12):\n",
        "  k_neighbors.append(i)"
      ],
      "metadata": {
        "id": "urusrNo_O132"
      },
      "id": "urusrNo_O132",
      "execution_count": null,
      "outputs": []
    },
    {
      "cell_type": "code",
      "source": [
        "previsoes = []\n",
        "acuracias = []\n",
        "for k, i in zip(k_neighbors, range(len(k_neighbors))):\n",
        "  knn = KNeighborsClassifier(n_neighbors=k, metric = 'precomputed')\n",
        "  knn.fit(distance_matrix, classes) \n",
        "  previsoes.append(knn.predict(distance_matrix))\n",
        "  acuracias.append(100*accuracy_score(classes, previsoes[i]))"
      ],
      "metadata": {
        "id": "5A-rW0QXPrGm"
      },
      "id": "5A-rW0QXPrGm",
      "execution_count": null,
      "outputs": []
    },
    {
      "cell_type": "code",
      "source": [
        "df = pd.DataFrame((zip(k_neighbors, acuracias)), columns=['Valor de K', 'Taxa de acerto (%)'])\n",
        "df"
      ],
      "metadata": {
        "id": "FeKsXEmQlqP4",
        "colab": {
          "base_uri": "https://localhost:8080/",
          "height": 394
        },
        "outputId": "500459d1-2113-4a8b-d24d-4ca045224fc5"
      },
      "id": "FeKsXEmQlqP4",
      "execution_count": null,
      "outputs": [
        {
          "output_type": "execute_result",
          "data": {
            "text/plain": [
              "    Valor de K  Taxa de acerto (%)\n",
              "0            1          100.000000\n",
              "1            2           96.969697\n",
              "2            3           93.939394\n",
              "3            4           89.898990\n",
              "4            5           87.878788\n",
              "5            6           85.858586\n",
              "6            7           84.848485\n",
              "7            8           84.848485\n",
              "8            9           85.858586\n",
              "9           10           85.858586\n",
              "10          11           83.838384"
            ],
            "text/html": [
              "\n",
              "  <div id=\"df-0074b235-f393-4323-a458-f227b2b1f705\">\n",
              "    <div class=\"colab-df-container\">\n",
              "      <div>\n",
              "<style scoped>\n",
              "    .dataframe tbody tr th:only-of-type {\n",
              "        vertical-align: middle;\n",
              "    }\n",
              "\n",
              "    .dataframe tbody tr th {\n",
              "        vertical-align: top;\n",
              "    }\n",
              "\n",
              "    .dataframe thead th {\n",
              "        text-align: right;\n",
              "    }\n",
              "</style>\n",
              "<table border=\"1\" class=\"dataframe\">\n",
              "  <thead>\n",
              "    <tr style=\"text-align: right;\">\n",
              "      <th></th>\n",
              "      <th>Valor de K</th>\n",
              "      <th>Taxa de acerto (%)</th>\n",
              "    </tr>\n",
              "  </thead>\n",
              "  <tbody>\n",
              "    <tr>\n",
              "      <th>0</th>\n",
              "      <td>1</td>\n",
              "      <td>100.000000</td>\n",
              "    </tr>\n",
              "    <tr>\n",
              "      <th>1</th>\n",
              "      <td>2</td>\n",
              "      <td>96.969697</td>\n",
              "    </tr>\n",
              "    <tr>\n",
              "      <th>2</th>\n",
              "      <td>3</td>\n",
              "      <td>93.939394</td>\n",
              "    </tr>\n",
              "    <tr>\n",
              "      <th>3</th>\n",
              "      <td>4</td>\n",
              "      <td>89.898990</td>\n",
              "    </tr>\n",
              "    <tr>\n",
              "      <th>4</th>\n",
              "      <td>5</td>\n",
              "      <td>87.878788</td>\n",
              "    </tr>\n",
              "    <tr>\n",
              "      <th>5</th>\n",
              "      <td>6</td>\n",
              "      <td>85.858586</td>\n",
              "    </tr>\n",
              "    <tr>\n",
              "      <th>6</th>\n",
              "      <td>7</td>\n",
              "      <td>84.848485</td>\n",
              "    </tr>\n",
              "    <tr>\n",
              "      <th>7</th>\n",
              "      <td>8</td>\n",
              "      <td>84.848485</td>\n",
              "    </tr>\n",
              "    <tr>\n",
              "      <th>8</th>\n",
              "      <td>9</td>\n",
              "      <td>85.858586</td>\n",
              "    </tr>\n",
              "    <tr>\n",
              "      <th>9</th>\n",
              "      <td>10</td>\n",
              "      <td>85.858586</td>\n",
              "    </tr>\n",
              "    <tr>\n",
              "      <th>10</th>\n",
              "      <td>11</td>\n",
              "      <td>83.838384</td>\n",
              "    </tr>\n",
              "  </tbody>\n",
              "</table>\n",
              "</div>\n",
              "      <button class=\"colab-df-convert\" onclick=\"convertToInteractive('df-0074b235-f393-4323-a458-f227b2b1f705')\"\n",
              "              title=\"Convert this dataframe to an interactive table.\"\n",
              "              style=\"display:none;\">\n",
              "        \n",
              "  <svg xmlns=\"http://www.w3.org/2000/svg\" height=\"24px\"viewBox=\"0 0 24 24\"\n",
              "       width=\"24px\">\n",
              "    <path d=\"M0 0h24v24H0V0z\" fill=\"none\"/>\n",
              "    <path d=\"M18.56 5.44l.94 2.06.94-2.06 2.06-.94-2.06-.94-.94-2.06-.94 2.06-2.06.94zm-11 1L8.5 8.5l.94-2.06 2.06-.94-2.06-.94L8.5 2.5l-.94 2.06-2.06.94zm10 10l.94 2.06.94-2.06 2.06-.94-2.06-.94-.94-2.06-.94 2.06-2.06.94z\"/><path d=\"M17.41 7.96l-1.37-1.37c-.4-.4-.92-.59-1.43-.59-.52 0-1.04.2-1.43.59L10.3 9.45l-7.72 7.72c-.78.78-.78 2.05 0 2.83L4 21.41c.39.39.9.59 1.41.59.51 0 1.02-.2 1.41-.59l7.78-7.78 2.81-2.81c.8-.78.8-2.07 0-2.86zM5.41 20L4 18.59l7.72-7.72 1.47 1.35L5.41 20z\"/>\n",
              "  </svg>\n",
              "      </button>\n",
              "      \n",
              "  <style>\n",
              "    .colab-df-container {\n",
              "      display:flex;\n",
              "      flex-wrap:wrap;\n",
              "      gap: 12px;\n",
              "    }\n",
              "\n",
              "    .colab-df-convert {\n",
              "      background-color: #E8F0FE;\n",
              "      border: none;\n",
              "      border-radius: 50%;\n",
              "      cursor: pointer;\n",
              "      display: none;\n",
              "      fill: #1967D2;\n",
              "      height: 32px;\n",
              "      padding: 0 0 0 0;\n",
              "      width: 32px;\n",
              "    }\n",
              "\n",
              "    .colab-df-convert:hover {\n",
              "      background-color: #E2EBFA;\n",
              "      box-shadow: 0px 1px 2px rgba(60, 64, 67, 0.3), 0px 1px 3px 1px rgba(60, 64, 67, 0.15);\n",
              "      fill: #174EA6;\n",
              "    }\n",
              "\n",
              "    [theme=dark] .colab-df-convert {\n",
              "      background-color: #3B4455;\n",
              "      fill: #D2E3FC;\n",
              "    }\n",
              "\n",
              "    [theme=dark] .colab-df-convert:hover {\n",
              "      background-color: #434B5C;\n",
              "      box-shadow: 0px 1px 3px 1px rgba(0, 0, 0, 0.15);\n",
              "      filter: drop-shadow(0px 1px 2px rgba(0, 0, 0, 0.3));\n",
              "      fill: #FFFFFF;\n",
              "    }\n",
              "  </style>\n",
              "\n",
              "      <script>\n",
              "        const buttonEl =\n",
              "          document.querySelector('#df-0074b235-f393-4323-a458-f227b2b1f705 button.colab-df-convert');\n",
              "        buttonEl.style.display =\n",
              "          google.colab.kernel.accessAllowed ? 'block' : 'none';\n",
              "\n",
              "        async function convertToInteractive(key) {\n",
              "          const element = document.querySelector('#df-0074b235-f393-4323-a458-f227b2b1f705');\n",
              "          const dataTable =\n",
              "            await google.colab.kernel.invokeFunction('convertToInteractive',\n",
              "                                                     [key], {});\n",
              "          if (!dataTable) return;\n",
              "\n",
              "          const docLinkHtml = 'Like what you see? Visit the ' +\n",
              "            '<a target=\"_blank\" href=https://colab.research.google.com/notebooks/data_table.ipynb>data table notebook</a>'\n",
              "            + ' to learn more about interactive tables.';\n",
              "          element.innerHTML = '';\n",
              "          dataTable['output_type'] = 'display_data';\n",
              "          await google.colab.output.renderOutput(dataTable, element);\n",
              "          const docLink = document.createElement('div');\n",
              "          docLink.innerHTML = docLinkHtml;\n",
              "          element.appendChild(docLink);\n",
              "        }\n",
              "      </script>\n",
              "    </div>\n",
              "  </div>\n",
              "  "
            ]
          },
          "metadata": {},
          "execution_count": 29
        }
      ]
    },
    {
      "cell_type": "code",
      "source": [
        "indice = acuracias.index(max(acuracias))\n",
        "print(f'Melhor k = {k_neighbors[indice]}')"
      ],
      "metadata": {
        "colab": {
          "base_uri": "https://localhost:8080/"
        },
        "id": "HB_gwLF9XUKt",
        "outputId": "514bfd6b-df38-4266-9d62-beabcc1e125d"
      },
      "id": "HB_gwLF9XUKt",
      "execution_count": null,
      "outputs": [
        {
          "output_type": "stream",
          "name": "stdout",
          "text": [
            "Melhor k = 1\n"
          ]
        }
      ]
    },
    {
      "cell_type": "code",
      "source": [
        "print(classification_report(classes, previsoes[2]))"
      ],
      "metadata": {
        "colab": {
          "base_uri": "https://localhost:8080/"
        },
        "id": "klLnaiVINC-x",
        "outputId": "64144fd1-024e-48c5-84af-465b504ff074"
      },
      "id": "klLnaiVINC-x",
      "execution_count": null,
      "outputs": [
        {
          "output_type": "stream",
          "name": "stdout",
          "text": [
            "              precision    recall  f1-score   support\n",
            "\n",
            "           0       0.91      0.91      0.91        11\n",
            "           1       0.85      1.00      0.92        11\n",
            "           2       1.00      1.00      1.00        11\n",
            "           3       1.00      0.82      0.90        11\n",
            "           4       1.00      0.82      0.90        11\n",
            "           5       1.00      0.91      0.95        11\n",
            "           6       1.00      1.00      1.00        11\n",
            "           7       0.85      1.00      0.92        11\n",
            "           8       0.92      1.00      0.96        11\n",
            "\n",
            "    accuracy                           0.94        99\n",
            "   macro avg       0.95      0.94      0.94        99\n",
            "weighted avg       0.95      0.94      0.94        99\n",
            "\n"
          ]
        }
      ]
    },
    {
      "cell_type": "markdown",
      "source": [
        "#Kmeans"
      ],
      "metadata": {
        "id": "mOtRflY8V0BH"
      },
      "id": "mOtRflY8V0BH"
    },
    {
      "cell_type": "code",
      "source": [
        "from sklearn.cluster import KMeans"
      ],
      "metadata": {
        "id": "kt2YIx3_V41T"
      },
      "id": "kt2YIx3_V41T",
      "execution_count": null,
      "outputs": []
    },
    {
      "cell_type": "code",
      "source": [
        "kmeans = KMeans(n_clusters=9).fit(distance_matrix)"
      ],
      "metadata": {
        "id": "nzh35ib1WFnH"
      },
      "id": "nzh35ib1WFnH",
      "execution_count": null,
      "outputs": []
    },
    {
      "cell_type": "code",
      "source": [
        "kmeans.labels_"
      ],
      "metadata": {
        "colab": {
          "base_uri": "https://localhost:8080/"
        },
        "id": "Ho5ZWMmAWULN",
        "outputId": "afdc7a69-6942-44f2-ad38-f3181776ba1d"
      },
      "id": "Ho5ZWMmAWULN",
      "execution_count": null,
      "outputs": [
        {
          "output_type": "execute_result",
          "data": {
            "text/plain": [
              "array([1, 4, 8, 1, 5, 1, 1, 1, 1, 4, 3, 7, 7, 7, 7, 7, 7, 2, 2, 7, 7, 2,\n",
              "       8, 8, 0, 3, 3, 8, 8, 3, 3, 3, 3, 2, 2, 2, 2, 2, 2, 7, 2, 2, 2, 7,\n",
              "       0, 0, 0, 0, 0, 0, 0, 0, 0, 0, 0, 6, 4, 6, 4, 4, 6, 6, 6, 4, 4, 4,\n",
              "       1, 4, 6, 4, 1, 1, 1, 1, 1, 1, 1, 0, 0, 0, 0, 0, 0, 0, 0, 0, 0, 0,\n",
              "       0, 0, 0, 0, 0, 0, 0, 0, 0, 0, 0], dtype=int32)"
            ]
          },
          "metadata": {},
          "execution_count": 37
        }
      ]
    }
  ]
}