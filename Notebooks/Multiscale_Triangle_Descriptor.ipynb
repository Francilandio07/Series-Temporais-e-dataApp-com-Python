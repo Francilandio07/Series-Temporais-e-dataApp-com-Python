{
  "nbformat": 4,
  "nbformat_minor": 5,
  "metadata": {
    "kernelspec": {
      "display_name": "Python 3",
      "language": "python",
      "name": "python3"
    },
    "language_info": {
      "codemirror_mode": {
        "name": "ipython",
        "version": 3
      },
      "file_extension": ".py",
      "mimetype": "text/x-python",
      "name": "python",
      "nbconvert_exporter": "python",
      "pygments_lexer": "ipython3",
      "version": "3.7.4"
    },
    "colab": {
      "name": "Assinatura_dos_contornos2.ipynb",
      "provenance": [],
      "collapsed_sections": [
        "Q5udS0j9ofVK",
        "afoFF1FNumKH"
      ]
    }
  },
  "cells": [
    {
      "cell_type": "code",
      "metadata": {
        "colab": {
          "base_uri": "https://localhost:8080/"
        },
        "id": "Ka5S40eS7WCE",
        "outputId": "6f009e77-785c-43e6-8525-cc46c104befa"
      },
      "source": [
        "from google.colab import drive\n",
        "drive.mount('/content/drive')"
      ],
      "id": "Ka5S40eS7WCE",
      "execution_count": null,
      "outputs": [
        {
          "output_type": "stream",
          "name": "stdout",
          "text": [
            "Mounted at /content/drive\n"
          ]
        }
      ]
    },
    {
      "cell_type": "markdown",
      "metadata": {
        "id": "LlgPB8vAeq_h"
      },
      "source": [
        "###Importando bibliotecas para buscar arquivos."
      ],
      "id": "LlgPB8vAeq_h"
    },
    {
      "cell_type": "code",
      "metadata": {
        "id": "mRTzhl927SPu"
      },
      "source": [
        "import re\n",
        "import os\n",
        "import shutil\n",
        "from random import sample"
      ],
      "id": "mRTzhl927SPu",
      "execution_count": null,
      "outputs": []
    },
    {
      "cell_type": "markdown",
      "metadata": {
        "id": "G1JFzbYcgU_Y"
      },
      "source": [
        "###Criando funções para obter os nomes das imagens."
      ],
      "id": "G1JFzbYcgU_Y"
    },
    {
      "cell_type": "code",
      "metadata": {
        "id": "pFD7l2aD7SPy"
      },
      "source": [
        "object_names = [] #Lista para guardar os nomes das imagens.\n",
        "main_folder = r'../content/drive/MyDrive/Exemplos CBIR/ExemploCBIR/kimia99' #Caminho para a pasta das imagens.\n",
        "\n",
        "#Função para percorrer a pasta das imagens e salvar os arquivos .png numa lista contendo seus nomes.\n",
        "def file_loop(root, dirs, files, object_names):\n",
        "    for file in sorted(files):\n",
        "        if not re.search(r'\\.png$', file):\n",
        "            continue\n",
        "        object_names.append(file)\n",
        "\n",
        "#Função auxiliar para caminhar por diretórios\n",
        "def main_loop(object_names):\n",
        "    for root, dirs, files in os.walk(main_folder):\n",
        "        file_loop(root, dirs, files, object_names)"
      ],
      "id": "pFD7l2aD7SPy",
      "execution_count": null,
      "outputs": []
    },
    {
      "cell_type": "markdown",
      "metadata": {
        "id": "LxjHoV-AgpRy"
      },
      "source": [
        "###Povoando a lista dos nomes das imagens."
      ],
      "id": "LxjHoV-AgpRy"
    },
    {
      "cell_type": "code",
      "metadata": {
        "id": "vTzzUBjc7SPz",
        "colab": {
          "base_uri": "https://localhost:8080/"
        },
        "outputId": "92afde5a-fbaa-450d-d5e1-b3084ad33bd3"
      },
      "source": [
        "main_loop(object_names)\n",
        "print(object_names)"
      ],
      "id": "vTzzUBjc7SPz",
      "execution_count": null,
      "outputs": [
        {
          "output_type": "stream",
          "name": "stdout",
          "text": [
            "['animal1.png', 'animal10.png', 'animal11.png', 'animal2.png', 'animal3.png', 'animal4.png', 'animal5.png', 'animal6.png', 'animal7.png', 'animal8.png', 'animal9.png', 'bunny04.png', 'bunny1.png', 'bunny10.png', 'bunny2.png', 'bunny3.png', 'bunny4.png', 'bunny5.png', 'bunny6.png', 'bunny7.png', 'bunny8.png', 'bunny9.png', 'dude0.png', 'dude1.png', 'dude10.png', 'dude11.png', 'dude12.png', 'dude2.png', 'dude4.png', 'dude5.png', 'dude6.png', 'dude7.png', 'dude8.png', 'fgen1.png', 'fgen1ap.png', 'fgen1bp.png', 'fgen1ep.png', 'fgen1fp.png', 'fgen2.png', 'fgen2dp.png', 'fgen2fp.png', 'fgen3.png', 'fgen3bp.png', 'fgen5cp.png', 'fish1.png', 'fish14.png', 'fish2.png', 'fish23.png', 'fish28.png', 'fish3.png', 'fish30.png', 'fish4.png', 'fish5.png', 'fish6.png', 'fish7.png', 'hand.png', 'hand2.png', 'hand2occ1.png', 'hand2occ2.png', 'hand2occ3.png', 'hand3.png', 'hand90.png', 'handbent1.png', 'handbent2.png', 'handdeform.png', 'handdeform2.png', 'harrier.png', 'harrier1.png', 'harrier2.png', 'harrier3.png', 'harrier4.png', 'harrier5.png', 'harrier6.png', 'harrier7.png', 'harrierocc1.png', 'harrierocc2.png', 'harrierocc3.png', 'kk0728.png', 'kk0729.png', 'kk0731.png', 'kk0732.png', 'kk0735.png', 'kk0736.png', 'kk0737.png', 'kk0738.png', 'kk0739.png', 'kk0740.png', 'kk0741.png', 'tool04.png', 'tool04bent1.png', 'tool07.png', 'tool08.png', 'tool09.png', 'tool12.png', 'tool17.png', 'tool22.png', 'tool27.png', 'tool38.png', 'tool44.png']\n"
          ]
        }
      ]
    },
    {
      "cell_type": "markdown",
      "metadata": {
        "id": "9zuomSsagxTM"
      },
      "source": [
        "###Importando função para buscar o conteúdo das imagens. "
      ],
      "id": "9zuomSsagxTM"
    },
    {
      "cell_type": "code",
      "metadata": {
        "id": "kWAy3hbJ7SPz"
      },
      "source": [
        "from glob import glob"
      ],
      "id": "kWAy3hbJ7SPz",
      "execution_count": null,
      "outputs": []
    },
    {
      "cell_type": "code",
      "metadata": {
        "id": "MyJtKU8E7SPz",
        "colab": {
          "base_uri": "https://localhost:8080/"
        },
        "outputId": "a58ae481-1e9b-4a89-cb69-7ece1bafc338"
      },
      "source": [
        "files = sorted(glob(r'../content/drive/MyDrive/Exemplos CBIR/ExemploCBIR/kimia99/*.png')) #Armazena as imagens na lista files.\n",
        "print(files)"
      ],
      "id": "MyJtKU8E7SPz",
      "execution_count": null,
      "outputs": [
        {
          "output_type": "stream",
          "name": "stdout",
          "text": [
            "['../content/drive/MyDrive/Exemplos CBIR/ExemploCBIR/kimia99/animal1.png', '../content/drive/MyDrive/Exemplos CBIR/ExemploCBIR/kimia99/animal10.png', '../content/drive/MyDrive/Exemplos CBIR/ExemploCBIR/kimia99/animal11.png', '../content/drive/MyDrive/Exemplos CBIR/ExemploCBIR/kimia99/animal2.png', '../content/drive/MyDrive/Exemplos CBIR/ExemploCBIR/kimia99/animal3.png', '../content/drive/MyDrive/Exemplos CBIR/ExemploCBIR/kimia99/animal4.png', '../content/drive/MyDrive/Exemplos CBIR/ExemploCBIR/kimia99/animal5.png', '../content/drive/MyDrive/Exemplos CBIR/ExemploCBIR/kimia99/animal6.png', '../content/drive/MyDrive/Exemplos CBIR/ExemploCBIR/kimia99/animal7.png', '../content/drive/MyDrive/Exemplos CBIR/ExemploCBIR/kimia99/animal8.png', '../content/drive/MyDrive/Exemplos CBIR/ExemploCBIR/kimia99/animal9.png', '../content/drive/MyDrive/Exemplos CBIR/ExemploCBIR/kimia99/bunny04.png', '../content/drive/MyDrive/Exemplos CBIR/ExemploCBIR/kimia99/bunny1.png', '../content/drive/MyDrive/Exemplos CBIR/ExemploCBIR/kimia99/bunny10.png', '../content/drive/MyDrive/Exemplos CBIR/ExemploCBIR/kimia99/bunny2.png', '../content/drive/MyDrive/Exemplos CBIR/ExemploCBIR/kimia99/bunny3.png', '../content/drive/MyDrive/Exemplos CBIR/ExemploCBIR/kimia99/bunny4.png', '../content/drive/MyDrive/Exemplos CBIR/ExemploCBIR/kimia99/bunny5.png', '../content/drive/MyDrive/Exemplos CBIR/ExemploCBIR/kimia99/bunny6.png', '../content/drive/MyDrive/Exemplos CBIR/ExemploCBIR/kimia99/bunny7.png', '../content/drive/MyDrive/Exemplos CBIR/ExemploCBIR/kimia99/bunny8.png', '../content/drive/MyDrive/Exemplos CBIR/ExemploCBIR/kimia99/bunny9.png', '../content/drive/MyDrive/Exemplos CBIR/ExemploCBIR/kimia99/dude0.png', '../content/drive/MyDrive/Exemplos CBIR/ExemploCBIR/kimia99/dude1.png', '../content/drive/MyDrive/Exemplos CBIR/ExemploCBIR/kimia99/dude10.png', '../content/drive/MyDrive/Exemplos CBIR/ExemploCBIR/kimia99/dude11.png', '../content/drive/MyDrive/Exemplos CBIR/ExemploCBIR/kimia99/dude12.png', '../content/drive/MyDrive/Exemplos CBIR/ExemploCBIR/kimia99/dude2.png', '../content/drive/MyDrive/Exemplos CBIR/ExemploCBIR/kimia99/dude4.png', '../content/drive/MyDrive/Exemplos CBIR/ExemploCBIR/kimia99/dude5.png', '../content/drive/MyDrive/Exemplos CBIR/ExemploCBIR/kimia99/dude6.png', '../content/drive/MyDrive/Exemplos CBIR/ExemploCBIR/kimia99/dude7.png', '../content/drive/MyDrive/Exemplos CBIR/ExemploCBIR/kimia99/dude8.png', '../content/drive/MyDrive/Exemplos CBIR/ExemploCBIR/kimia99/fgen1.png', '../content/drive/MyDrive/Exemplos CBIR/ExemploCBIR/kimia99/fgen1ap.png', '../content/drive/MyDrive/Exemplos CBIR/ExemploCBIR/kimia99/fgen1bp.png', '../content/drive/MyDrive/Exemplos CBIR/ExemploCBIR/kimia99/fgen1ep.png', '../content/drive/MyDrive/Exemplos CBIR/ExemploCBIR/kimia99/fgen1fp.png', '../content/drive/MyDrive/Exemplos CBIR/ExemploCBIR/kimia99/fgen2.png', '../content/drive/MyDrive/Exemplos CBIR/ExemploCBIR/kimia99/fgen2dp.png', '../content/drive/MyDrive/Exemplos CBIR/ExemploCBIR/kimia99/fgen2fp.png', '../content/drive/MyDrive/Exemplos CBIR/ExemploCBIR/kimia99/fgen3.png', '../content/drive/MyDrive/Exemplos CBIR/ExemploCBIR/kimia99/fgen3bp.png', '../content/drive/MyDrive/Exemplos CBIR/ExemploCBIR/kimia99/fgen5cp.png', '../content/drive/MyDrive/Exemplos CBIR/ExemploCBIR/kimia99/fish1.png', '../content/drive/MyDrive/Exemplos CBIR/ExemploCBIR/kimia99/fish14.png', '../content/drive/MyDrive/Exemplos CBIR/ExemploCBIR/kimia99/fish2.png', '../content/drive/MyDrive/Exemplos CBIR/ExemploCBIR/kimia99/fish23.png', '../content/drive/MyDrive/Exemplos CBIR/ExemploCBIR/kimia99/fish28.png', '../content/drive/MyDrive/Exemplos CBIR/ExemploCBIR/kimia99/fish3.png', '../content/drive/MyDrive/Exemplos CBIR/ExemploCBIR/kimia99/fish30.png', '../content/drive/MyDrive/Exemplos CBIR/ExemploCBIR/kimia99/fish4.png', '../content/drive/MyDrive/Exemplos CBIR/ExemploCBIR/kimia99/fish5.png', '../content/drive/MyDrive/Exemplos CBIR/ExemploCBIR/kimia99/fish6.png', '../content/drive/MyDrive/Exemplos CBIR/ExemploCBIR/kimia99/fish7.png', '../content/drive/MyDrive/Exemplos CBIR/ExemploCBIR/kimia99/hand.png', '../content/drive/MyDrive/Exemplos CBIR/ExemploCBIR/kimia99/hand2.png', '../content/drive/MyDrive/Exemplos CBIR/ExemploCBIR/kimia99/hand2occ1.png', '../content/drive/MyDrive/Exemplos CBIR/ExemploCBIR/kimia99/hand2occ2.png', '../content/drive/MyDrive/Exemplos CBIR/ExemploCBIR/kimia99/hand2occ3.png', '../content/drive/MyDrive/Exemplos CBIR/ExemploCBIR/kimia99/hand3.png', '../content/drive/MyDrive/Exemplos CBIR/ExemploCBIR/kimia99/hand90.png', '../content/drive/MyDrive/Exemplos CBIR/ExemploCBIR/kimia99/handbent1.png', '../content/drive/MyDrive/Exemplos CBIR/ExemploCBIR/kimia99/handbent2.png', '../content/drive/MyDrive/Exemplos CBIR/ExemploCBIR/kimia99/handdeform.png', '../content/drive/MyDrive/Exemplos CBIR/ExemploCBIR/kimia99/handdeform2.png', '../content/drive/MyDrive/Exemplos CBIR/ExemploCBIR/kimia99/harrier.png', '../content/drive/MyDrive/Exemplos CBIR/ExemploCBIR/kimia99/harrier1.png', '../content/drive/MyDrive/Exemplos CBIR/ExemploCBIR/kimia99/harrier2.png', '../content/drive/MyDrive/Exemplos CBIR/ExemploCBIR/kimia99/harrier3.png', '../content/drive/MyDrive/Exemplos CBIR/ExemploCBIR/kimia99/harrier4.png', '../content/drive/MyDrive/Exemplos CBIR/ExemploCBIR/kimia99/harrier5.png', '../content/drive/MyDrive/Exemplos CBIR/ExemploCBIR/kimia99/harrier6.png', '../content/drive/MyDrive/Exemplos CBIR/ExemploCBIR/kimia99/harrier7.png', '../content/drive/MyDrive/Exemplos CBIR/ExemploCBIR/kimia99/harrierocc1.png', '../content/drive/MyDrive/Exemplos CBIR/ExemploCBIR/kimia99/harrierocc2.png', '../content/drive/MyDrive/Exemplos CBIR/ExemploCBIR/kimia99/harrierocc3.png', '../content/drive/MyDrive/Exemplos CBIR/ExemploCBIR/kimia99/kk0728.png', '../content/drive/MyDrive/Exemplos CBIR/ExemploCBIR/kimia99/kk0729.png', '../content/drive/MyDrive/Exemplos CBIR/ExemploCBIR/kimia99/kk0731.png', '../content/drive/MyDrive/Exemplos CBIR/ExemploCBIR/kimia99/kk0732.png', '../content/drive/MyDrive/Exemplos CBIR/ExemploCBIR/kimia99/kk0735.png', '../content/drive/MyDrive/Exemplos CBIR/ExemploCBIR/kimia99/kk0736.png', '../content/drive/MyDrive/Exemplos CBIR/ExemploCBIR/kimia99/kk0737.png', '../content/drive/MyDrive/Exemplos CBIR/ExemploCBIR/kimia99/kk0738.png', '../content/drive/MyDrive/Exemplos CBIR/ExemploCBIR/kimia99/kk0739.png', '../content/drive/MyDrive/Exemplos CBIR/ExemploCBIR/kimia99/kk0740.png', '../content/drive/MyDrive/Exemplos CBIR/ExemploCBIR/kimia99/kk0741.png', '../content/drive/MyDrive/Exemplos CBIR/ExemploCBIR/kimia99/tool04.png', '../content/drive/MyDrive/Exemplos CBIR/ExemploCBIR/kimia99/tool04bent1.png', '../content/drive/MyDrive/Exemplos CBIR/ExemploCBIR/kimia99/tool07.png', '../content/drive/MyDrive/Exemplos CBIR/ExemploCBIR/kimia99/tool08.png', '../content/drive/MyDrive/Exemplos CBIR/ExemploCBIR/kimia99/tool09.png', '../content/drive/MyDrive/Exemplos CBIR/ExemploCBIR/kimia99/tool12.png', '../content/drive/MyDrive/Exemplos CBIR/ExemploCBIR/kimia99/tool17.png', '../content/drive/MyDrive/Exemplos CBIR/ExemploCBIR/kimia99/tool22.png', '../content/drive/MyDrive/Exemplos CBIR/ExemploCBIR/kimia99/tool27.png', '../content/drive/MyDrive/Exemplos CBIR/ExemploCBIR/kimia99/tool38.png', '../content/drive/MyDrive/Exemplos CBIR/ExemploCBIR/kimia99/tool44.png']\n"
          ]
        }
      ]
    },
    {
      "cell_type": "markdown",
      "metadata": {
        "id": "ccV6nwZPjnbS"
      },
      "source": [
        "###Importando bibliotecas e lendo imagens na escala de cinza."
      ],
      "id": "ccV6nwZPjnbS"
    },
    {
      "cell_type": "code",
      "metadata": {
        "id": "BgMUk6Fx7SP1"
      },
      "source": [
        "import matplotlib.pyplot as plt\n",
        "import skimage.io\n",
        "\n",
        "for i in range(0, len(files)):\n",
        "  files[i] = skimage.io.imread(str(files[i]),as_gray=True)"
      ],
      "id": "BgMUk6Fx7SP1",
      "execution_count": null,
      "outputs": []
    },
    {
      "cell_type": "markdown",
      "metadata": {
        "id": "yVBVe4L6j28n"
      },
      "source": [
        "###Importando bibliotecas para pegar contornos das formas e trabalhar com matrizes."
      ],
      "id": "yVBVe4L6j28n"
    },
    {
      "cell_type": "code",
      "metadata": {
        "id": "PWLbVMmg7SP2"
      },
      "source": [
        "from skimage.measure import find_contours\n",
        "import numpy as np\n",
        "\n",
        "contour = [] #Lista para armazenar as coordenadas dos pixels de contorno.\n",
        "cx = [] #Lista com as coordenadas x do centro das formas.\n",
        "cy = [] #Lista com as coordenadas y do centro das formas.\n",
        "\n",
        "#Pegando os contornos de cada forma e os centros das mesmas.\n",
        "for i in range(0, len(files)):\n",
        "    contour.append(find_contours(files[i], level=0))\n",
        "    contour[i] = np.array(contour[i][0])\n",
        "    cx.append(contour[i][:,0].mean()) \n",
        "    cy.append(contour[i][:,1].mean())"
      ],
      "id": "PWLbVMmg7SP2",
      "execution_count": null,
      "outputs": []
    },
    {
      "cell_type": "markdown",
      "source": [
        "#Tratando alguns erros:"
      ],
      "metadata": {
        "id": "-jmXlWl4JZ1x"
      },
      "id": "-jmXlWl4JZ1x"
    },
    {
      "cell_type": "code",
      "source": [
        "contour.pop(4) #Retirei o quinto contorno porque ele ficou errado"
      ],
      "metadata": {
        "colab": {
          "base_uri": "https://localhost:8080/"
        },
        "id": "4qO4uzQGWJv9",
        "outputId": "f205de0c-7d3f-4aeb-ecd1-b82c4420a265"
      },
      "id": "4qO4uzQGWJv9",
      "execution_count": null,
      "outputs": [
        {
          "output_type": "execute_result",
          "data": {
            "text/plain": [
              "array([[10., 23.],\n",
              "       [11., 23.],\n",
              "       [10., 23.]])"
            ]
          },
          "metadata": {},
          "execution_count": 9
        }
      ]
    },
    {
      "cell_type": "code",
      "source": [
        "files.pop(4)"
      ],
      "metadata": {
        "colab": {
          "base_uri": "https://localhost:8080/"
        },
        "id": "yd2JiOzt7klc",
        "outputId": "f5867a25-2d07-46c5-d660-c8b284dd9789"
      },
      "id": "yd2JiOzt7klc",
      "execution_count": null,
      "outputs": [
        {
          "output_type": "execute_result",
          "data": {
            "text/plain": [
              "array([[255, 255, 255, ..., 255, 255, 255],\n",
              "       [255, 255, 255, ..., 255, 255, 255],\n",
              "       [255, 255, 255, ..., 255, 255, 255],\n",
              "       ...,\n",
              "       [255, 255, 255, ..., 255, 255, 255],\n",
              "       [255, 255, 255, ..., 255, 255, 255],\n",
              "       [255, 255, 255, ..., 255, 255, 255]], dtype=uint8)"
            ]
          },
          "metadata": {},
          "execution_count": 10
        }
      ]
    },
    {
      "cell_type": "markdown",
      "source": [
        "#Gerando as MTDs:"
      ],
      "metadata": {
        "id": "L0-X69UKQvxr"
      },
      "id": "L0-X69UKQvxr"
    },
    {
      "cell_type": "code",
      "source": [
        "import math"
      ],
      "metadata": {
        "id": "osgYQnRYhy1D"
      },
      "id": "osgYQnRYhy1D",
      "execution_count": null,
      "outputs": []
    },
    {
      "cell_type": "code",
      "source": [
        "MTDs = []\n",
        "for t in range (len(contour)):\n",
        "  forma = []\n",
        "  forma = contour[t]\n",
        "  N = len(forma)\n",
        "  Ts = math.floor(math.log2(N/2)) #Número de escalas dos triângulos\n",
        "  alfa = np.zeros(Ts)\n",
        "  beta = np.zeros(Ts)\n",
        "  gama = np.zeros(Ts)\n",
        "  alfa_aux = np.zeros(Ts)\n",
        "  beta_aux = np.zeros(Ts)\n",
        "  gama_aux = np.zeros(Ts)\n",
        "  for i in range(N): #Percorrer os N pontos de contorno\n",
        "    for k in range(Ts): #Percorrer as Ts escalas\n",
        "      d = 2**k #Distância entre os vértices do triângulo\n",
        "      pi_left = forma[(i-d)%N] #O vértice esquerdo do triângulo\n",
        "      pi_right = forma[(i+d)%N] #O vértice direito do triângulo\n",
        "      pi_centerx = forma[i][0] #Coordenada x do vértice central do triângulo\n",
        "      pi_centery = forma[i][1] #Coordenada y do vértice central do triângulo\n",
        "      pi_leftx = pi_left[0] #Coordenada x do vértice esquerdo do triângulo\n",
        "      pi_lefty = pi_left[1] #Coordenada y do vértice esquerdo do triângulo\n",
        "      pi_rightx = pi_right[0] #Coordenada x do vértice direito do triângulo\n",
        "      pi_righty = pi_right[1] #Coordenada y do vértice direito do triângulo\n",
        "      centroidx = (pi_centerx + pi_leftx + pi_rightx)/3.0 #Coordenada x do centróide do triângulo\n",
        "      centroidy = (pi_centery + pi_lefty + pi_righty)/3.0 #Coordenada y do centróide do triângulo\n",
        "      gama_aux[k] = math.sqrt((pi_centerx - centroidx)**2 + (pi_centery - centroidy)**2) #Valor de gama para o i-ésimo ponto considerando o k-ésimo triângulo\n",
        "      tsa = 0.5*(pi_rightx*pi_lefty + pi_leftx*pi_centery + pi_centerx*pi_righty \n",
        "              - pi_centerx*pi_lefty - pi_rightx*pi_centery - pi_leftx*pi_righty) #Cálculo da área do k-ésimo triângulo relativo ao i-ésimo ponto do contorno t\n",
        "      if(tsa >= 0): #Verificar se a área do triângulo dada pelo determinante é positiva ou nula\n",
        "        alfa_aux[k] = tsa #Valor de alfa para o i-ésimo ponto considerando o k-ésimo triângulo\n",
        "        beta_aux[k] = 1 #Valor de beta para o i-ésimo ponto considerando o k-ésimo triângulo\n",
        "      else: #Caso o determinante seja negativo\n",
        "        alfa_aux[k] = -tsa #Valor de alfa para o i-ésimo ponto considerando o k-ésimo triângulo\n",
        "        beta_aux[k] = 0 #Valor de beta para o i-ésimo ponto considerando o k-ésimo triângulo\n",
        "    #Fim - for k in range(Ts):\n",
        "    max_alfa = max(alfa_aux)\n",
        "    max_gama = max(gama_aux)\n",
        "    if(max_alfa == 0):\n",
        "      max_alfa += 0.00001\n",
        "    if(max_gama == 0):\n",
        "      max_gama += 0.00001\n",
        "    alfa_aux = alfa_aux/max_alfa #Normalização do vetor alfa\n",
        "    gama_aux = gama_aux/max_gama #Normalização do vetor gama\n",
        "    alfa = np.vstack([alfa, alfa_aux]) #Concatenando todos os arrays de alfas\n",
        "    beta = np.vstack([beta, beta_aux]) #Concatenando todos os arrays de betas\n",
        "    gama = np.vstack([gama, gama_aux]) #Concatenando todos os arrays de gamas\n",
        "  #Fim - for i in range(N): \n",
        "  alfa = np.delete(alfa, (0), axis=0) #Deleta o primeiro array de alfas que é nulo\n",
        "  beta = np.delete(beta, (0), axis=0) #Deleta o primeiro array de betas que é nulo\n",
        "  gama = np.delete(gama, (0), axis=0) #Deleta o primeiro array de gamas que é nulo\n",
        "  alfa = np.abs(np.fft.fft(alfa, axis=1)) #FFT em alfa\n",
        "  beta = np.abs(np.fft.fft(beta, axis=1)) #FFT em beta \n",
        "  gama = np.abs(np.fft.fft(gama, axis=1)) #FFT em gama \n",
        "  alfa = alfa[0:5]\n",
        "  beta = beta[0:5]\n",
        "  gama = gama[0:5]\n",
        "  MTD = [] #Lista para colocar MTDs particulares, com seus valores de alfa, beta e gama\n",
        "  MTD.append(alfa) \n",
        "  MTD.append(beta)\n",
        "  MTD.append(gama)\n",
        "  MTDs.append(MTD) #Lista que conterá, no fim do laço, todas as MTDs dos contornos\n",
        "#Fim - for t in range (len(contour)):"
      ],
      "metadata": {
        "id": "XxdCu4xsRVLq"
      },
      "id": "XxdCu4xsRVLq",
      "execution_count": null,
      "outputs": []
    },
    {
      "cell_type": "markdown",
      "source": [
        "#Verificando como ficou a matriz de MTDs:"
      ],
      "metadata": {
        "id": "wKRVz953RAfH"
      },
      "id": "wKRVz953RAfH"
    },
    {
      "cell_type": "code",
      "source": [
        "len(MTDs[0][0]) #MTD : 98 MTDs de 3x5(M):5(Ts)"
      ],
      "metadata": {
        "id": "6cAwAZ-XC6CH",
        "colab": {
          "base_uri": "https://localhost:8080/"
        },
        "outputId": "be61fb58-34fe-46db-df58-0236950d11e5"
      },
      "id": "6cAwAZ-XC6CH",
      "execution_count": null,
      "outputs": [
        {
          "output_type": "execute_result",
          "data": {
            "text/plain": [
              "5"
            ]
          },
          "metadata": {},
          "execution_count": 13
        }
      ]
    },
    {
      "cell_type": "code",
      "source": [
        "type(MTDs[0][0])"
      ],
      "metadata": {
        "colab": {
          "base_uri": "https://localhost:8080/"
        },
        "id": "bp8FVSnPqdZZ",
        "outputId": "9fed7124-0cc5-44e2-960f-1ddd5a077087"
      },
      "id": "bp8FVSnPqdZZ",
      "execution_count": null,
      "outputs": [
        {
          "output_type": "execute_result",
          "data": {
            "text/plain": [
              "numpy.ndarray"
            ]
          },
          "metadata": {},
          "execution_count": 40
        }
      ]
    },
    {
      "cell_type": "code",
      "source": [
        "MTDs[0][0].shape"
      ],
      "metadata": {
        "colab": {
          "base_uri": "https://localhost:8080/"
        },
        "id": "HS1i3Wkusp1J",
        "outputId": "575660d7-6048-4685-e3fb-4845c9b6f68f"
      },
      "id": "HS1i3Wkusp1J",
      "execution_count": null,
      "outputs": [
        {
          "output_type": "execute_result",
          "data": {
            "text/plain": [
              "(5, 7)"
            ]
          },
          "metadata": {},
          "execution_count": 41
        }
      ]
    },
    {
      "cell_type": "code",
      "source": [
        "print(Ts)"
      ],
      "metadata": {
        "colab": {
          "base_uri": "https://localhost:8080/"
        },
        "id": "16FfWNn17RsC",
        "outputId": "54ea03b5-e4f1-4371-809e-9d160c85dffa"
      },
      "id": "16FfWNn17RsC",
      "execution_count": null,
      "outputs": [
        {
          "output_type": "stream",
          "name": "stdout",
          "text": [
            "6\n"
          ]
        }
      ]
    },
    {
      "cell_type": "code",
      "source": [
        "print(alfa)"
      ],
      "metadata": {
        "id": "36N-pzsNdDkA",
        "colab": {
          "base_uri": "https://localhost:8080/"
        },
        "outputId": "4c266863-4847-474e-a1b5-87244acb77f3"
      },
      "id": "36N-pzsNdDkA",
      "execution_count": null,
      "outputs": [
        {
          "output_type": "stream",
          "name": "stdout",
          "text": [
            "[[1.95480226 1.28129066 0.71107929 0.62146893 0.71107929 1.28129066]\n",
            " [1.75977654 1.21452822 0.7571636  0.67597765 0.7571636  1.21452822]\n",
            " [1.99350649 1.32364042 0.74233589 0.51298701 0.74233589 1.32364042]\n",
            " [1.84810127 1.26634483 0.73980276 0.62025316 0.73980276 1.26634483]\n",
            " [1.63451777 1.13967022 0.8159336  0.7106599  0.8159336  1.13967022]]\n"
          ]
        }
      ]
    },
    {
      "cell_type": "code",
      "source": [
        "print(MTDs[97][0])"
      ],
      "metadata": {
        "colab": {
          "base_uri": "https://localhost:8080/"
        },
        "id": "BKGXlFrlQ27O",
        "outputId": "1f988612-65fa-42b8-f2ac-423dbf974eba"
      },
      "id": "BKGXlFrlQ27O",
      "execution_count": null,
      "outputs": [
        {
          "output_type": "stream",
          "name": "stdout",
          "text": [
            "[[1.95480226 1.28129066 0.71107929 0.62146893 0.71107929 1.28129066]\n",
            " [1.75977654 1.21452822 0.7571636  0.67597765 0.7571636  1.21452822]\n",
            " [1.99350649 1.32364042 0.74233589 0.51298701 0.74233589 1.32364042]\n",
            " [1.84810127 1.26634483 0.73980276 0.62025316 0.73980276 1.26634483]\n",
            " [1.63451777 1.13967022 0.8159336  0.7106599  0.8159336  1.13967022]]\n"
          ]
        }
      ]
    },
    {
      "cell_type": "markdown",
      "source": [
        "#Exemplo do cálculo de sdist(A, B):\n",
        "##Nesse caso consideramos MTD(A) = MTDs[0] e MTD(B) = MTDs[1].\n",
        "##É importante notar que para k inteiro ∈ \\{0, 97\\}, $$MTDs[k][0] = α^{`k}; MTDs[k][1] = β^{`k}; MTDs[k][2] = γ^{`k}$$\n",
        "#A fórmula descrita a seguir é empregada na próxima célula de código:\n",
        "$$\\mathrm{sdist(A,B)} = w_1*(|α^{`A}-α^{`B}|) + w_2*(|β^{`A}-β^{`B}|) + w_3*(|γ^{`A}-γ^{`B}|)$$"
      ],
      "metadata": {
        "id": "UVmmYhuLThUi"
      },
      "id": "UVmmYhuLThUi"
    },
    {
      "cell_type": "code",
      "source": [
        "sdist_AB = 1*(np.abs(MTDs[0][0] - MTDs[1][0])) + 0.9*(np.abs(MTDs[0][1] - MTDs[1][1])) \n",
        "+ 1.2*(np.abs(MTDs[0][2] - MTDs[1][2])) #sdist(A, B) Obs: Mais a frente calcularei a diferença entre as matrizes com fastdtw\n",
        "#1*(np.abs(fastdtw(a[0], b[0])[0])) + 0.9*(np.abs(fastdtw(a[1], b[1])[0])) + 1.2*(np.abs(fastdtw(a[2], b[2])[0]))"
      ],
      "metadata": {
        "id": "JH4IruBaRe15",
        "colab": {
          "base_uri": "https://localhost:8080/"
        },
        "outputId": "b1b5eb82-feba-404b-dab6-1de27b32bf8c"
      },
      "id": "JH4IruBaRe15",
      "execution_count": null,
      "outputs": [
        {
          "output_type": "execute_result",
          "data": {
            "text/plain": [
              "array([[0.1631662 , 0.06038368, 0.08995147, 0.06465723, 0.06465723,\n",
              "        0.08995147, 0.06038368],\n",
              "       [0.18957492, 0.08064707, 0.09314184, 0.07328267, 0.07328267,\n",
              "        0.09314184, 0.08064707],\n",
              "       [0.23726225, 0.14377618, 0.07692712, 0.05719834, 0.05719834,\n",
              "        0.07692712, 0.14377618],\n",
              "       [0.21020536, 0.18282179, 0.08904787, 0.06234754, 0.06234754,\n",
              "        0.08904787, 0.18282179],\n",
              "       [0.22057068, 0.24993819, 0.09048232, 0.01578433, 0.01578433,\n",
              "        0.09048232, 0.24993819]])"
            ]
          },
          "metadata": {},
          "execution_count": 13
        }
      ]
    },
    {
      "cell_type": "markdown",
      "metadata": {
        "id": "rZsGIEyyD3vd"
      },
      "source": [
        "###Matriz de distâncias usando a fórmula dada no artigo e a DTW:"
      ],
      "id": "rZsGIEyyD3vd"
    },
    {
      "cell_type": "code",
      "metadata": {
        "id": "5OFK6ZyCAO0c"
      },
      "source": [
        "from fastdtw import fastdtw "
      ],
      "id": "5OFK6ZyCAO0c",
      "execution_count": null,
      "outputs": []
    },
    {
      "cell_type": "code",
      "source": [
        "n = len(MTDs)\n",
        "distance_matrix = np.zeros((n,n)) #Matriz de distâncias.\n",
        "for i,a in zip(np.arange(n), MTDs):\n",
        "  for j,b in zip(np.arange(i,n), MTDs[i:]):\n",
        "    distance_matrix[i,j] = 2*(np.abs(fastdtw(a[0].T, b[0].T)[0])) + (np.abs(fastdtw(a[1].T, b[1].T)[0])) + 5*(np.abs(fastdtw(a[2].T, b[2].T)[0]))\n",
        "distance_matrix = distance_matrix + distance_matrix.transpose()"
      ],
      "metadata": {
        "id": "KFX6NMeWyt0w"
      },
      "id": "KFX6NMeWyt0w",
      "execution_count": null,
      "outputs": []
    },
    {
      "cell_type": "code",
      "metadata": {
        "id": "nXUao8QVTgBr",
        "colab": {
          "base_uri": "https://localhost:8080/"
        },
        "outputId": "5846ba8d-4da5-4f4a-e2fb-6fffdb2f52b8"
      },
      "source": [
        "distance_matrix.shape"
      ],
      "id": "nXUao8QVTgBr",
      "execution_count": null,
      "outputs": [
        {
          "output_type": "execute_result",
          "data": {
            "text/plain": [
              "(98, 98)"
            ]
          },
          "metadata": {},
          "execution_count": 16
        }
      ]
    },
    {
      "cell_type": "markdown",
      "source": [
        "#Visualizando o conteúdo da matriz de distâncias:"
      ],
      "metadata": {
        "id": "Yqnft_yfS0bn"
      },
      "id": "Yqnft_yfS0bn"
    },
    {
      "cell_type": "markdown",
      "metadata": {
        "id": "3_e4TFH-l3Q3"
      },
      "source": [
        "###Criando dicionário para guardar coordenadas dos contornos, coordenadas dos centros e formas das imagens."
      ],
      "id": "3_e4TFH-l3Q3"
    },
    {
      "cell_type": "code",
      "metadata": {
        "id": "-aqZH2Mj7SP4"
      },
      "source": [
        "keys = [] #Lista a ser povoada com dicionário.\n",
        "\n",
        "for i in range(0, len(contour)):\n",
        "    keys.append({})\n",
        "    keys[i][\"contour\"] = contour[i] #Contornos\n",
        "    keys[i][\"shape\"] = contour[i].shape[0] #Proporção da forma.\n",
        "    keys[i][\"form\"] = files[i] #Forma pura da imagem.\n",
        "    keys[i][\"MTD\"] = MTDs[i] #MTD da forma"
      ],
      "id": "-aqZH2Mj7SP4",
      "execution_count": null,
      "outputs": []
    },
    {
      "cell_type": "markdown",
      "metadata": {
        "id": "IkcM_tG3nBWS"
      },
      "source": [
        "###Criando dicionário para associar os nomes das imagens a todas as suas características."
      ],
      "id": "IkcM_tG3nBWS"
    },
    {
      "cell_type": "code",
      "metadata": {
        "id": "QHkKFPq47SP5"
      },
      "source": [
        "dictionary = {}\n",
        "for i in range(0, len(contour)):\n",
        "    dictionary[object_names[i]] = keys[i]"
      ],
      "id": "QHkKFPq47SP5",
      "execution_count": null,
      "outputs": []
    },
    {
      "cell_type": "code",
      "metadata": {
        "id": "nXW-UvVD7SP5",
        "colab": {
          "base_uri": "https://localhost:8080/"
        },
        "outputId": "068750ac-b545-4dc9-89ed-722ce77923ea"
      },
      "source": [
        "print(dictionary.keys()) #Nomes das imagens"
      ],
      "id": "nXW-UvVD7SP5",
      "execution_count": null,
      "outputs": [
        {
          "output_type": "stream",
          "name": "stdout",
          "text": [
            "dict_keys(['animal1.png', 'animal10.png', 'animal11.png', 'animal2.png', 'animal3.png', 'animal4.png', 'animal5.png', 'animal6.png', 'animal7.png', 'animal8.png', 'animal9.png', 'bunny04.png', 'bunny1.png', 'bunny10.png', 'bunny2.png', 'bunny3.png', 'bunny4.png', 'bunny5.png', 'bunny6.png', 'bunny7.png', 'bunny8.png', 'bunny9.png', 'dude0.png', 'dude1.png', 'dude10.png', 'dude11.png', 'dude12.png', 'dude2.png', 'dude4.png', 'dude5.png', 'dude6.png', 'dude7.png', 'dude8.png', 'fgen1.png', 'fgen1ap.png', 'fgen1bp.png', 'fgen1ep.png', 'fgen1fp.png', 'fgen2.png', 'fgen2dp.png', 'fgen2fp.png', 'fgen3.png', 'fgen3bp.png', 'fgen5cp.png', 'fish1.png', 'fish14.png', 'fish2.png', 'fish23.png', 'fish28.png', 'fish3.png', 'fish30.png', 'fish4.png', 'fish5.png', 'fish6.png', 'fish7.png', 'hand.png', 'hand2.png', 'hand2occ1.png', 'hand2occ2.png', 'hand2occ3.png', 'hand3.png', 'hand90.png', 'handbent1.png', 'handbent2.png', 'handdeform.png', 'handdeform2.png', 'harrier.png', 'harrier1.png', 'harrier2.png', 'harrier3.png', 'harrier4.png', 'harrier5.png', 'harrier6.png', 'harrier7.png', 'harrierocc1.png', 'harrierocc2.png', 'harrierocc3.png', 'kk0728.png', 'kk0729.png', 'kk0731.png', 'kk0732.png', 'kk0735.png', 'kk0736.png', 'kk0737.png', 'kk0738.png', 'kk0739.png', 'kk0740.png', 'kk0741.png', 'tool04.png', 'tool04bent1.png', 'tool07.png', 'tool08.png', 'tool09.png', 'tool12.png', 'tool17.png', 'tool22.png', 'tool27.png', 'tool38.png'])\n"
          ]
        }
      ]
    },
    {
      "cell_type": "markdown",
      "metadata": {
        "id": "bqoEp1JX1Pqs"
      },
      "source": [
        "###Classificando as imagens:"
      ],
      "id": "bqoEp1JX1Pqs"
    },
    {
      "cell_type": "code",
      "metadata": {
        "id": "glD2zsEEoIOQ"
      },
      "source": [
        "for i in dictionary.keys():\n",
        "  if 'animal' in i:\n",
        "    dictionary[i]['class'] = 0\n",
        "  elif 'bunny' in i:\n",
        "    dictionary[i]['class'] = 1\n",
        "  elif 'dude' in i:\n",
        "    dictionary[i]['class'] = 2\n",
        "  elif 'fgen' in i:\n",
        "    dictionary[i]['class'] = 3\n",
        "  elif 'fish' in i:\n",
        "    dictionary[i]['class'] = 4\n",
        "  elif 'hand' in i:\n",
        "    dictionary[i]['class'] = 5\n",
        "  elif 'harrier' in i:\n",
        "    dictionary[i]['class'] = 6\n",
        "  elif 'kk0' in i:\n",
        "    dictionary[i]['class'] = 7\n",
        "  elif 'tool' in i:\n",
        "    dictionary[i]['class'] = 8"
      ],
      "id": "glD2zsEEoIOQ",
      "execution_count": null,
      "outputs": []
    },
    {
      "cell_type": "code",
      "source": [
        "classes = []\n",
        "for i in dictionary.keys():\n",
        "  classes.append(dictionary[i]['class'])"
      ],
      "metadata": {
        "id": "tS1tmHT6Es2e"
      },
      "id": "tS1tmHT6Es2e",
      "execution_count": null,
      "outputs": []
    },
    {
      "cell_type": "code",
      "source": [
        "classes"
      ],
      "metadata": {
        "id": "5JZQJDwHFlsr"
      },
      "id": "5JZQJDwHFlsr",
      "execution_count": null,
      "outputs": []
    },
    {
      "cell_type": "code",
      "metadata": {
        "id": "cwsd-aaJ0zlX",
        "colab": {
          "base_uri": "https://localhost:8080/"
        },
        "outputId": "66085a9a-5845-4785-fb78-b2a0f8ba3672"
      },
      "source": [
        "#Exemplo:\n",
        "print(dictionary['kk0735.png']['class'])"
      ],
      "id": "cwsd-aaJ0zlX",
      "execution_count": null,
      "outputs": [
        {
          "output_type": "stream",
          "name": "stdout",
          "text": [
            "7\n"
          ]
        }
      ]
    },
    {
      "cell_type": "markdown",
      "metadata": {
        "id": "KDk1JSafnfyT"
      },
      "source": [
        "###Criando função para plotar gráficos da forma e do contorno das imagens."
      ],
      "id": "KDk1JSafnfyT"
    },
    {
      "cell_type": "code",
      "metadata": {
        "id": "sbCVSnNm-3Jm"
      },
      "source": [
        "plt.figure(figsize=(30, 30))\n",
        "ax2 = plt.axes([0.133, 0.123, 0.75, 0.75])\n",
        "for i, j in zip(range(2,101),range(0,98)):\n",
        "  a = 100*(i-1)+1\n",
        "  plt.subplot(100, 100, a)\n",
        "  plt.axis('off')\n",
        "  plt.xticks(())\n",
        "  plt.yticks(())\n",
        "  plt.imshow(files[j], 'gray')\n",
        "  plt.subplot(100, 100, i)\n",
        "  plt.axis('off')\n",
        "  plt.xticks(())\n",
        "  plt.yticks(())\n",
        "  plt.imshow(files[j], 'gray')\n",
        "plt.axes(ax2)\n",
        "plt.xticks(())\n",
        "plt.yticks(())\n",
        "plt.imshow(distance_matrix,cmap=\"gray\")\n",
        "\n",
        "plt.show()"
      ],
      "id": "sbCVSnNm-3Jm",
      "execution_count": null,
      "outputs": []
    },
    {
      "cell_type": "code",
      "metadata": {
        "id": "aif8V63A7SP5",
        "colab": {
          "base_uri": "https://localhost:8080/",
          "height": 265
        },
        "outputId": "edac6be5-7834-4892-e7c4-9e0a952d98b5"
      },
      "source": [
        "def graphic_form_contour(name): #O parâmetro a ser passado é o nome de uma das imagens.\n",
        "    plt.subplot(121)\n",
        "    plt.imshow(dictionary[name]['form'],'gray') #Usando os dados do dicionário (forma)\n",
        "    plt.subplot(122)\n",
        "    plt.scatter(dictionary[name]['contour'][:,0],dictionary[name]['contour'][:,1]) #Usando os dados do dicionário (contorno)\n",
        "    plt.show()\n",
        "\n",
        "#Exemplo:\n",
        "graphic_form_contour('animal11.png')"
      ],
      "id": "aif8V63A7SP5",
      "execution_count": null,
      "outputs": [
        {
          "output_type": "display_data",
          "data": {
            "text/plain": [
              "<Figure size 432x288 with 2 Axes>"
            ],
            "image/png": "[encoded data removed]"
          },
          "metadata": {
            "needs_background": "light"
          }
        }
      ]
    },
    {
      "cell_type": "markdown",
      "metadata": {
        "id": "Q5udS0j9ofVK"
      },
      "source": [
        "###Salvando os dados do dicionário em um arquivo .pkl."
      ],
      "id": "Q5udS0j9ofVK"
    },
    {
      "cell_type": "code",
      "metadata": {
        "id": "9qCvjHLl7SP6"
      },
      "source": [
        "import pickle\n",
        "\n",
        "pickle_file = open(\"banco de dados.pkl\",\"wb\")\n",
        "pickle.dump(dictionary, pickle_file)"
      ],
      "id": "9qCvjHLl7SP6",
      "execution_count": null,
      "outputs": []
    },
    {
      "cell_type": "code",
      "metadata": {
        "id": "KT13XFda7SP6"
      },
      "source": [
        "pickle_file.close()"
      ],
      "id": "KT13XFda7SP6",
      "execution_count": null,
      "outputs": []
    },
    {
      "cell_type": "markdown",
      "metadata": {
        "id": "afoFF1FNumKH"
      },
      "source": [
        "###Para testar se o salvamento funcionou."
      ],
      "id": "afoFF1FNumKH"
    },
    {
      "cell_type": "code",
      "metadata": {
        "id": "rZ6KcYYzrgbZ"
      },
      "source": [
        "with open(\"banco de dados.pkl\",\"rb\") as data_base:\n",
        "  new_dictionary = pickle.load(data_base)\n",
        "\n",
        "print(new_dictionary)"
      ],
      "id": "rZ6KcYYzrgbZ",
      "execution_count": null,
      "outputs": []
    },
    {
      "cell_type": "markdown",
      "source": [
        "#Avaliando o descritor usando KNN"
      ],
      "metadata": {
        "id": "21LQY8ifjpIK"
      },
      "id": "21LQY8ifjpIK"
    },
    {
      "cell_type": "code",
      "source": [
        "import pandas as pd\n",
        "from sklearn.neighbors import KNeighborsClassifier"
      ],
      "metadata": {
        "id": "DX0OXQYBjpIL"
      },
      "execution_count": null,
      "outputs": [],
      "id": "DX0OXQYBjpIL"
    },
    {
      "cell_type": "code",
      "source": [
        "from sklearn.metrics import accuracy_score, classification_report"
      ],
      "metadata": {
        "id": "MPR51TfsLBdW"
      },
      "execution_count": null,
      "outputs": [],
      "id": "MPR51TfsLBdW"
    },
    {
      "cell_type": "code",
      "source": [
        "k_neighbors = []\n",
        "for i in range(1,12):\n",
        "  k_neighbors.append(i)"
      ],
      "metadata": {
        "id": "urusrNo_O132"
      },
      "execution_count": null,
      "outputs": [],
      "id": "urusrNo_O132"
    },
    {
      "cell_type": "code",
      "source": [
        "previsoes = []\n",
        "acuracias = []\n",
        "for k, i in zip(k_neighbors, range(len(k_neighbors))):\n",
        "  knn = KNeighborsClassifier(n_neighbors=k, metric = 'precomputed')\n",
        "  knn.fit(distance_matrix, classes) \n",
        "  previsoes.append(knn.predict(distance_matrix))\n",
        "  acuracias.append(100*accuracy_score(classes, previsoes[i]))"
      ],
      "metadata": {
        "id": "5A-rW0QXPrGm"
      },
      "execution_count": null,
      "outputs": [],
      "id": "5A-rW0QXPrGm"
    },
    {
      "cell_type": "code",
      "source": [
        "df = pd.DataFrame((zip(k_neighbors, acuracias)), columns=['Valor de K', 'Taxa de acerto (%)'])\n",
        "df"
      ],
      "metadata": {
        "id": "FeKsXEmQlqP4",
        "colab": {
          "base_uri": "https://localhost:8080/",
          "height": 394
        },
        "outputId": "597cbed1-1a35-4bfa-bb29-2d8b0bb584d6"
      },
      "execution_count": null,
      "outputs": [
        {
          "output_type": "execute_result",
          "data": {
            "text/plain": [
              "    Valor de K  Taxa de acerto (%)\n",
              "0            1           97.959184\n",
              "1            2           83.673469\n",
              "2            3           82.653061\n",
              "3            4           72.448980\n",
              "4            5           69.387755\n",
              "5            6           66.326531\n",
              "6            7           69.387755\n",
              "7            8           65.306122\n",
              "8            9           61.224490\n",
              "9           10           63.265306\n",
              "10          11           65.306122"
            ],
            "text/html": [
              "\n",
              "  <div id=\"df-12b0c106-b32a-47d3-8c0c-d2f34e478223\">\n",
              "    <div class=\"colab-df-container\">\n",
              "      <div>\n",
              "<style scoped>\n",
              "    .dataframe tbody tr th:only-of-type {\n",
              "        vertical-align: middle;\n",
              "    }\n",
              "\n",
              "    .dataframe tbody tr th {\n",
              "        vertical-align: top;\n",
              "    }\n",
              "\n",
              "    .dataframe thead th {\n",
              "        text-align: right;\n",
              "    }\n",
              "</style>\n",
              "<table border=\"1\" class=\"dataframe\">\n",
              "  <thead>\n",
              "    <tr style=\"text-align: right;\">\n",
              "      <th></th>\n",
              "      <th>Valor de K</th>\n",
              "      <th>Taxa de acerto (%)</th>\n",
              "    </tr>\n",
              "  </thead>\n",
              "  <tbody>\n",
              "    <tr>\n",
              "      <th>0</th>\n",
              "      <td>1</td>\n",
              "      <td>97.959184</td>\n",
              "    </tr>\n",
              "    <tr>\n",
              "      <th>1</th>\n",
              "      <td>2</td>\n",
              "      <td>83.673469</td>\n",
              "    </tr>\n",
              "    <tr>\n",
              "      <th>2</th>\n",
              "      <td>3</td>\n",
              "      <td>82.653061</td>\n",
              "    </tr>\n",
              "    <tr>\n",
              "      <th>3</th>\n",
              "      <td>4</td>\n",
              "      <td>72.448980</td>\n",
              "    </tr>\n",
              "    <tr>\n",
              "      <th>4</th>\n",
              "      <td>5</td>\n",
              "      <td>69.387755</td>\n",
              "    </tr>\n",
              "    <tr>\n",
              "      <th>5</th>\n",
              "      <td>6</td>\n",
              "      <td>66.326531</td>\n",
              "    </tr>\n",
              "    <tr>\n",
              "      <th>6</th>\n",
              "      <td>7</td>\n",
              "      <td>69.387755</td>\n",
              "    </tr>\n",
              "    <tr>\n",
              "      <th>7</th>\n",
              "      <td>8</td>\n",
              "      <td>65.306122</td>\n",
              "    </tr>\n",
              "    <tr>\n",
              "      <th>8</th>\n",
              "      <td>9</td>\n",
              "      <td>61.224490</td>\n",
              "    </tr>\n",
              "    <tr>\n",
              "      <th>9</th>\n",
              "      <td>10</td>\n",
              "      <td>63.265306</td>\n",
              "    </tr>\n",
              "    <tr>\n",
              "      <th>10</th>\n",
              "      <td>11</td>\n",
              "      <td>65.306122</td>\n",
              "    </tr>\n",
              "  </tbody>\n",
              "</table>\n",
              "</div>\n",
              "      <button class=\"colab-df-convert\" onclick=\"convertToInteractive('df-12b0c106-b32a-47d3-8c0c-d2f34e478223')\"\n",
              "              title=\"Convert this dataframe to an interactive table.\"\n",
              "              style=\"display:none;\">\n",
              "        \n",
              "  <svg xmlns=\"http://www.w3.org/2000/svg\" height=\"24px\"viewBox=\"0 0 24 24\"\n",
              "       width=\"24px\">\n",
              "    <path d=\"M0 0h24v24H0V0z\" fill=\"none\"/>\n",
              "    <path d=\"M18.56 5.44l.94 2.06.94-2.06 2.06-.94-2.06-.94-.94-2.06-.94 2.06-2.06.94zm-11 1L8.5 8.5l.94-2.06 2.06-.94-2.06-.94L8.5 2.5l-.94 2.06-2.06.94zm10 10l.94 2.06.94-2.06 2.06-.94-2.06-.94-.94-2.06-.94 2.06-2.06.94z\"/><path d=\"M17.41 7.96l-1.37-1.37c-.4-.4-.92-.59-1.43-.59-.52 0-1.04.2-1.43.59L10.3 9.45l-7.72 7.72c-.78.78-.78 2.05 0 2.83L4 21.41c.39.39.9.59 1.41.59.51 0 1.02-.2 1.41-.59l7.78-7.78 2.81-2.81c.8-.78.8-2.07 0-2.86zM5.41 20L4 18.59l7.72-7.72 1.47 1.35L5.41 20z\"/>\n",
              "  </svg>\n",
              "      </button>\n",
              "      \n",
              "  <style>\n",
              "    .colab-df-container {\n",
              "      display:flex;\n",
              "      flex-wrap:wrap;\n",
              "      gap: 12px;\n",
              "    }\n",
              "\n",
              "    .colab-df-convert {\n",
              "      background-color: #E8F0FE;\n",
              "      border: none;\n",
              "      border-radius: 50%;\n",
              "      cursor: pointer;\n",
              "      display: none;\n",
              "      fill: #1967D2;\n",
              "      height: 32px;\n",
              "      padding: 0 0 0 0;\n",
              "      width: 32px;\n",
              "    }\n",
              "\n",
              "    .colab-df-convert:hover {\n",
              "      background-color: #E2EBFA;\n",
              "      box-shadow: 0px 1px 2px rgba(60, 64, 67, 0.3), 0px 1px 3px 1px rgba(60, 64, 67, 0.15);\n",
              "      fill: #174EA6;\n",
              "    }\n",
              "\n",
              "    [theme=dark] .colab-df-convert {\n",
              "      background-color: #3B4455;\n",
              "      fill: #D2E3FC;\n",
              "    }\n",
              "\n",
              "    [theme=dark] .colab-df-convert:hover {\n",
              "      background-color: #434B5C;\n",
              "      box-shadow: 0px 1px 3px 1px rgba(0, 0, 0, 0.15);\n",
              "      filter: drop-shadow(0px 1px 2px rgba(0, 0, 0, 0.3));\n",
              "      fill: #FFFFFF;\n",
              "    }\n",
              "  </style>\n",
              "\n",
              "      <script>\n",
              "        const buttonEl =\n",
              "          document.querySelector('#df-12b0c106-b32a-47d3-8c0c-d2f34e478223 button.colab-df-convert');\n",
              "        buttonEl.style.display =\n",
              "          google.colab.kernel.accessAllowed ? 'block' : 'none';\n",
              "\n",
              "        async function convertToInteractive(key) {\n",
              "          const element = document.querySelector('#df-12b0c106-b32a-47d3-8c0c-d2f34e478223');\n",
              "          const dataTable =\n",
              "            await google.colab.kernel.invokeFunction('convertToInteractive',\n",
              "                                                     [key], {});\n",
              "          if (!dataTable) return;\n",
              "\n",
              "          const docLinkHtml = 'Like what you see? Visit the ' +\n",
              "            '<a target=\"_blank\" href=https://colab.research.google.com/notebooks/data_table.ipynb>data table notebook</a>'\n",
              "            + ' to learn more about interactive tables.';\n",
              "          element.innerHTML = '';\n",
              "          dataTable['output_type'] = 'display_data';\n",
              "          await google.colab.output.renderOutput(dataTable, element);\n",
              "          const docLink = document.createElement('div');\n",
              "          docLink.innerHTML = docLinkHtml;\n",
              "          element.appendChild(docLink);\n",
              "        }\n",
              "      </script>\n",
              "    </div>\n",
              "  </div>\n",
              "  "
            ]
          },
          "metadata": {},
          "execution_count": 24
        }
      ],
      "id": "FeKsXEmQlqP4"
    },
    {
      "cell_type": "code",
      "source": [
        "indice = acuracias.index(max(acuracias))\n",
        "print(f'Melhor k = {k_neighbors[indice]}')"
      ],
      "metadata": {
        "colab": {
          "base_uri": "https://localhost:8080/"
        },
        "id": "HB_gwLF9XUKt",
        "outputId": "2121a074-f0a1-4bff-d394-d1cc2779370d"
      },
      "execution_count": null,
      "outputs": [
        {
          "output_type": "stream",
          "name": "stdout",
          "text": [
            "Melhor k = 1\n"
          ]
        }
      ],
      "id": "HB_gwLF9XUKt"
    },
    {
      "cell_type": "code",
      "source": [
        "print(classification_report(classes, previsoes[2]))"
      ],
      "metadata": {
        "colab": {
          "base_uri": "https://localhost:8080/"
        },
        "id": "klLnaiVINC-x",
        "outputId": "d2f490c1-80cf-463e-a192-128f6b12a213"
      },
      "execution_count": null,
      "outputs": [
        {
          "output_type": "stream",
          "name": "stdout",
          "text": [
            "              precision    recall  f1-score   support\n",
            "\n",
            "           0       1.00      0.73      0.84        11\n",
            "           1       0.82      0.82      0.82        11\n",
            "           2       0.64      0.82      0.72        11\n",
            "           3       0.85      1.00      0.92        11\n",
            "           4       0.90      0.82      0.86        11\n",
            "           5       0.80      0.73      0.76        11\n",
            "           6       0.80      0.73      0.76        11\n",
            "           7       0.90      0.82      0.86        11\n",
            "           8       0.83      1.00      0.91        10\n",
            "\n",
            "    accuracy                           0.83        98\n",
            "   macro avg       0.84      0.83      0.83        98\n",
            "weighted avg       0.84      0.83      0.83        98\n",
            "\n"
          ]
        }
      ],
      "id": "klLnaiVINC-x"
    },
    {
      "cell_type": "code",
      "source": [
        "from sklearn.metrics import confusion_matrix"
      ],
      "metadata": {
        "id": "UaxMp5pPuppk"
      },
      "id": "UaxMp5pPuppk",
      "execution_count": null,
      "outputs": []
    },
    {
      "cell_type": "code",
      "source": [
        "print(confusion_matrix(classes, previsoes[2]))"
      ],
      "metadata": {
        "colab": {
          "base_uri": "https://localhost:8080/"
        },
        "id": "W6E1R95guxSg",
        "outputId": "e033a139-0533-4747-c1fb-160cf6bc8a30"
      },
      "id": "W6E1R95guxSg",
      "execution_count": null,
      "outputs": [
        {
          "output_type": "stream",
          "name": "stdout",
          "text": [
            "[[ 8  1  0  0  1  0  1  0  0]\n",
            " [ 0  9  1  0  0  0  0  0  1]\n",
            " [ 0  0  9  1  0  0  0  1  0]\n",
            " [ 0  0  0 11  0  0  0  0  0]\n",
            " [ 0  0  0  0  9  2  0  0  0]\n",
            " [ 0  1  1  0  0  8  1  0  0]\n",
            " [ 0  0  2  1  0  0  8  0  0]\n",
            " [ 0  0  1  0  0  0  0  9  1]\n",
            " [ 0  0  0  0  0  0  0  0 10]]\n"
          ]
        }
      ]
    }
  ]
}